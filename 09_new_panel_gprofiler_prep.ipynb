{
 "cells": [
  {
   "cell_type": "code",
   "execution_count": 1,
   "id": "8bffdd86",
   "metadata": {},
   "outputs": [],
   "source": [
    "# import necessary libraries for the analysis\n",
    "import os\n",
    "import csv\n",
    "import numpy as np\n",
    "import matplotlib.pyplot as plt\n",
    "import pandas as pd\n",
    "from pathlib import Path"
   ]
  },
  {
   "cell_type": "code",
   "execution_count": 2,
   "id": "e959f841",
   "metadata": {},
   "outputs": [],
   "source": [
    "## Functions used below are imported from another notebook, run before changing directory\n",
    "\n",
    "%run overlap_and_range_functions.ipynb"
   ]
  },
  {
   "cell_type": "code",
   "execution_count": 6,
   "id": "fcc741ea",
   "metadata": {},
   "outputs": [],
   "source": [
    "previous_excluded_gene_types = \\\n",
    "                      ['IG_C_gene', 'IG_D_gene', 'IG_J_gene', 'IG_LV_gene', 'IG_V_gene', \\\n",
    "                       'TR_C_gene', 'TR_J_gene', 'TR_V_gene', 'TR_D_gene', \\\n",
    "                       'IG_pseudogene', 'IG_C_pseudogene', 'IG_J_pseudogene', 'IG_V_pseudogene', \\\n",
    "                       'TR_V_pseudogene', 'TR_J_pseudogene']"
   ]
  },
  {
   "cell_type": "markdown",
   "id": "f2e446ee",
   "metadata": {},
   "source": [
    "# SMALL DELS"
   ]
  },
  {
   "cell_type": "code",
   "execution_count": 5,
   "id": "dbea6987",
   "metadata": {},
   "outputs": [],
   "source": [
    "small_del_gene_only_list_path = '/Users/ryanyutian/Desktop/unique_gene_only_annotated/small_dels/'\n",
    "\n",
    "somatic_small_del_gene_only_list_df_names = []\n",
    "\n",
    "os.chdir(small_del_gene_only_list_path)\n",
    "temp_files = sorted([i for i in os.listdir(small_del_gene_only_list_path) if 'DS' not in i])\n",
    "\n",
    "for file_name in temp_files:\n",
    "    \n",
    "    globals()[file_name[:-9] + '_only_list'] = pd.read_csv(file_name)\n",
    "    somatic_small_del_gene_only_list_df_names.append(file_name[:-9] + '_only_list')"
   ]
  },
  {
   "cell_type": "code",
   "execution_count": 6,
   "id": "c66abe7f",
   "metadata": {},
   "outputs": [
    {
     "name": "stdout",
     "output_type": "stream",
     "text": [
      "Currently analyzing: A_RR_GBM809_small_del_gene_only_list\n",
      "Currently analyzing: A_R_GBM607_small_del_gene_only_list\n",
      "Currently analyzing: B_P_GBM593_small_del_gene_only_list\n",
      "Currently analyzing: B_R_GBM898_small_del_gene_only_list\n",
      "Currently analyzing: C_P_GBM577_small_del_gene_only_list\n",
      "Currently analyzing: C_R_GBM625_small_del_gene_only_list\n",
      "Currently analyzing: E_RR_GBM937_small_del_gene_only_list\n",
      "Currently analyzing: E_R_GBM781_small_del_gene_only_list\n",
      "Currently analyzing: F_P_GBM620_small_del_gene_only_list\n",
      "Currently analyzing: F_R_GBM691_small_del_gene_only_list\n",
      "Currently analyzing: G_P_GBM454_small_del_gene_only_list\n",
      "Currently analyzing: G_R_GBM833_small_del_gene_only_list\n",
      "Currently analyzing: H_P_GBM460_small_del_gene_only_list\n",
      "Currently analyzing: H_R_GBM492_small_del_gene_only_list\n",
      "Currently analyzing: I_P_GBM440_small_del_gene_only_list\n",
      "Currently analyzing: I_R_GBM532_small_del_gene_only_list\n",
      "Currently analyzing: J_P_GBM401_small_del_gene_only_list\n",
      "Currently analyzing: J_RR_GBM551_small_del_gene_only_list\n",
      "Currently analyzing: J_R_GBM498_small_del_gene_only_list\n",
      "Currently analyzing: K_P_GBM529_small_del_gene_only_list\n",
      "Currently analyzing: K_R_GBM832_small_del_gene_only_list\n",
      "Currently analyzing: L_P_GBM618_small_del_gene_only_list\n",
      "Currently analyzing: L_R_SMTB152_small_del_gene_only_list\n",
      "Currently analyzing: M_P_GBM672_small_del_gene_only_list\n",
      "Currently analyzing: M_R_GBM828_small_del_gene_only_list\n",
      "Currently analyzing: N_P_BT2013110_small_del_gene_only_list\n",
      "Currently analyzing: N_R_GBM745_small_del_gene_only_list\n",
      "Currently analyzing: O_P_GBM703_small_del_gene_only_list\n",
      "Currently analyzing: O_R_SMTB781_small_del_gene_only_list\n",
      "Currently analyzing: P_P_SMTB123_small_del_gene_only_list\n",
      "Currently analyzing: P_R_SMTB265_small_del_gene_only_list\n",
      "Currently analyzing: Q_P_SMTB665_small_del_gene_only_list\n",
      "Currently analyzing: Q_R_GBM1070_small_del_gene_only_list\n",
      "Currently analyzing: X_R_GBM945_small_del_gene_only_list\n",
      "Currently analyzing: X_R_SMTB135_small_del_gene_only_list\n",
      "Currently analyzing: X_R_SMTB241_small_del_gene_only_list\n",
      "Currently analyzing: X_R_SMTB302_small_del_gene_only_list\n",
      "Currently analyzing: X_R_SMTB814_small_del_gene_only_list\n"
     ]
    }
   ],
   "source": [
    "for df_name in somatic_small_del_gene_only_list_df_names:\n",
    "    \n",
    "    print('Currently analyzing: ' + df_name)\n",
    "    \n",
    "    temp_exon_affected = []\n",
    "    temp_CDS_affected = []\n",
    "    \n",
    "    temp_df = globals()[df_name]\n",
    "    temp_og_gene_df = globals()[df_name[:-9] + 'list']\n",
    "    \n",
    "    for index, row in temp_df.iterrows():\n",
    "        \n",
    "        if row['gene_type'] in excluded_gene_types:\n",
    "            \n",
    "            globals()[df_name] = globals()[df_name].drop([index])\n",
    "        \n",
    "        else:\n",
    "            \n",
    "            temp_rows = temp_og_gene_df[temp_og_gene_df['gene_name'] == row['gene_name']]\n",
    "\n",
    "            if len(temp_rows[temp_rows['feature'] == 'exon']) > 0:\n",
    "\n",
    "                temp_exon_affected.append(1)\n",
    "\n",
    "            else:\n",
    "\n",
    "                temp_exon_affected.append(0)\n",
    "\n",
    "            if len(temp_rows[temp_rows['feature'] == 'CDS']) > 0:\n",
    "\n",
    "                temp_CDS_affected.append(1)\n",
    "\n",
    "            else:\n",
    "\n",
    "                temp_CDS_affected.append(0)\n",
    "            \n",
    "    globals()[df_name]['exon_affected'] = temp_exon_affected\n",
    "    globals()[df_name]['CDS_affected'] = temp_CDS_affected\n",
    "    globals()[df_name] = globals()[df_name].drop_duplicates(subset=['gene_name'], keep='first')"
   ]
  },
  {
   "cell_type": "code",
   "execution_count": 7,
   "id": "fd84c85f",
   "metadata": {},
   "outputs": [],
   "source": [
    "small_del_gene_annotated_list_path = \\\n",
    "'/Users/ryanyutian/Desktop/new_panel_TRI_Brain_gene_list/unique_gene_only_annotated/small_dels/'\n",
    "\n",
    "for df_name in somatic_small_del_gene_only_list_df_names:\n",
    "    \n",
    "    temp_df = globals()[df_name]\n",
    "    \n",
    "    temp_df.to_csv((small_del_gene_annotated_list_path + df_name + '.csv'), index=False, sep=',')"
   ]
  },
  {
   "cell_type": "markdown",
   "id": "9920f9e4",
   "metadata": {},
   "source": [
    "# LARGE DELS"
   ]
  },
  {
   "cell_type": "code",
   "execution_count": 6,
   "id": "1ff2c058",
   "metadata": {},
   "outputs": [],
   "source": [
    "large_del_gene_only_list_path = '/Users/ryanyutian/Desktop/new_panel_TRI_Brain_gene_list/unique_gene_only_annotated/large_svs/DEL/'\n",
    "\n",
    "somatic_large_del_gene_only_list_df_names = []\n",
    "\n",
    "os.chdir(large_del_gene_only_list_path)\n",
    "\n",
    "temp_files = sorted([i for i in os.listdir(large_del_gene_only_list_path) if 'DS' not in i])\n",
    "\n",
    "for file_name in temp_files:\n",
    "\n",
    "    with open(file_name, newline='') as f:\n",
    "        reader = csv.reader(f)\n",
    "        data = list(reader)\n",
    "\n",
    "    if len(data) > 1:\n",
    "\n",
    "        globals()[file_name[:-4]] = pd.read_csv(file_name)\n",
    "        somatic_large_del_gene_only_list_df_names.append(file_name[:-4])"
   ]
  },
  {
   "cell_type": "code",
   "execution_count": 11,
   "id": "dc39229f",
   "metadata": {},
   "outputs": [],
   "source": [
    "large_del_gene_types = []\n",
    "\n",
    "for df_name in somatic_large_del_gene_only_list_df_names:\n",
    "\n",
    "    temp_df = globals()[df_name]\n",
    "    large_del_gene_types.extend(list(temp_df['gene_type']))"
   ]
  },
  {
   "cell_type": "code",
   "execution_count": 13,
   "id": "c5b7092a",
   "metadata": {},
   "outputs": [
    {
     "data": {
      "text/plain": [
       "array(['TEC', 'lncRNA', 'miRNA', 'misc_RNA', 'processed_pseudogene',\n",
       "       'protein_coding', 'pseudogene', 'rRNA', 'rRNA_pseudogene',\n",
       "       'ribozyme', 'scaRNA', 'snRNA', 'snoRNA',\n",
       "       'transcribed_processed_pseudogene',\n",
       "       'transcribed_unitary_pseudogene',\n",
       "       'transcribed_unprocessed_pseudogene',\n",
       "       'translated_unprocessed_pseudogene', 'unitary_pseudogene',\n",
       "       'unprocessed_pseudogene'], dtype='<U34')"
      ]
     },
     "execution_count": 13,
     "metadata": {},
     "output_type": "execute_result"
    }
   ],
   "source": [
    "np.unique(large_del_gene_types)"
   ]
  },
  {
   "cell_type": "code",
   "execution_count": 14,
   "id": "5bbdaa94",
   "metadata": {},
   "outputs": [],
   "source": [
    "large_del_excluded_gene_types = ['TEC', 'processed_pseudogene', 'pseudogene', 'rRNA_pseudogene', \\\n",
    "                                'transcribed_processed_pseudogene', 'transcribed_unitary_pseudogene', \\\n",
    "                                'transcribed_unprocessed_pseudogene', 'translated_unprocessed_pseudogene', \\\n",
    "                                'unitary_pseudogene', 'unprocessed_pseudogene']"
   ]
  },
  {
   "cell_type": "code",
   "execution_count": 21,
   "id": "9f65a0fc",
   "metadata": {},
   "outputs": [
    {
     "name": "stdout",
     "output_type": "stream",
     "text": [
      "Currently analyzing: A_RR_GBM809_large_del_gene_only_list\n",
      "Currently analyzing: A_R_GBM607_large_del_gene_only_list\n",
      "Currently analyzing: B_P_GBM593_large_del_gene_only_list\n",
      "Currently analyzing: B_R_GBM898_large_del_gene_only_list\n",
      "Currently analyzing: C_P_GBM577_large_del_gene_only_list\n",
      "Currently analyzing: E_RR_GBM937_large_del_gene_only_list\n",
      "Currently analyzing: E_R_GBM781_large_del_gene_only_list\n",
      "Currently analyzing: F_P_GBM620_large_del_gene_only_list\n",
      "Currently analyzing: F_R_GBM691_large_del_gene_only_list\n",
      "Currently analyzing: G_P_GBM454_large_del_gene_only_list\n",
      "Currently analyzing: G_R_GBM833_large_del_gene_only_list\n",
      "Currently analyzing: H_P_GBM460_large_del_gene_only_list\n",
      "Currently analyzing: H_R_GBM492_large_del_gene_only_list\n",
      "Currently analyzing: I_P_GBM440_large_del_gene_only_list\n",
      "Currently analyzing: I_R_GBM532_large_del_gene_only_list\n",
      "Currently analyzing: J_P_GBM401_large_del_gene_only_list\n",
      "Currently analyzing: J_RR_GBM551_large_del_gene_only_list\n",
      "Currently analyzing: J_R_GBM498_large_del_gene_only_list\n",
      "Currently analyzing: K_P_GBM529_large_del_gene_only_list\n",
      "Currently analyzing: K_R_GBM832_large_del_gene_only_list\n",
      "Currently analyzing: L_P_GBM618_large_del_gene_only_list\n",
      "Currently analyzing: L_R_SMTB152_large_del_gene_only_list\n",
      "Currently analyzing: M_P_GBM672_large_del_gene_only_list\n",
      "Currently analyzing: M_R_GBM828_large_del_gene_only_list\n",
      "Currently analyzing: N_P_BT2013110_large_del_gene_only_list\n",
      "Currently analyzing: N_R_GBM745_large_del_gene_only_list\n",
      "Currently analyzing: O_P_GBM703_large_del_gene_only_list\n",
      "Currently analyzing: O_R_SMTB781_large_del_gene_only_list\n",
      "Currently analyzing: P_P_SMTB123_large_del_gene_only_list\n",
      "Currently analyzing: P_R_SMTB265_large_del_gene_only_list\n",
      "Currently analyzing: Q_P_SMTB665_large_del_gene_only_list\n",
      "Currently analyzing: Q_R_GBM1070_large_del_gene_only_list\n",
      "Currently analyzing: X_R_GBM945_large_del_gene_only_list\n",
      "Currently analyzing: X_R_SMTB135_large_del_gene_only_list\n",
      "Currently analyzing: X_R_SMTB241_large_del_gene_only_list\n",
      "Currently analyzing: X_R_SMTB302_large_del_gene_only_list\n",
      "Currently analyzing: X_R_SMTB814_large_del_gene_only_list\n"
     ]
    }
   ],
   "source": [
    "large_del_gprofiler_list_names = []\n",
    "\n",
    "for df_name in somatic_large_del_gene_only_list_df_names:\n",
    "    \n",
    "    print('Currently analyzing: ' + df_name)\n",
    "        \n",
    "    temp_df = globals()[df_name]\n",
    "    \n",
    "    output_name = df_name[:-15] + '_gprofiler_list'\n",
    "    globals()[output_name] = temp_df[~temp_df['gene_type'].isin(large_del_excluded_gene_types)]\n",
    "    \n",
    "    large_del_gprofiler_list_names.append(output_name)"
   ]
  },
  {
   "cell_type": "code",
   "execution_count": 24,
   "id": "48bcc38f",
   "metadata": {},
   "outputs": [],
   "source": [
    "large_del_gene_gprofiler_list_path = \\\n",
    "'/Users/ryanyutian/Desktop/new_panel_TRI_Brain_gene_list/gprofiler_ready/large_svs/DEL/'\n",
    "\n",
    "for df_name in large_del_gprofiler_list_names:\n",
    "    \n",
    "    temp_df = globals()[df_name]\n",
    "    \n",
    "    temp_df.to_csv((large_del_gene_gprofiler_list_path + df_name + '.csv'), index=False, sep=',')"
   ]
  },
  {
   "cell_type": "code",
   "execution_count": 42,
   "id": "ff2b7580",
   "metadata": {
    "scrolled": false
   },
   "outputs": [
    {
     "name": "stdout",
     "output_type": "stream",
     "text": [
      "Currently analyzing: A_RR_GBM809_large_del_gene_only_list\n",
      "Currently analyzing: A_R_GBM607_large_del_gene_only_list\n",
      "Currently analyzing: B_P_GBM593_large_del_gene_only_list\n",
      "Currently analyzing: B_R_GBM898_large_del_gene_only_list\n",
      "Currently analyzing: C_P_GBM577_large_del_gene_only_list\n",
      "Currently analyzing: E_RR_GBM937_large_del_gene_only_list\n",
      "Currently analyzing: E_R_GBM781_large_del_gene_only_list\n",
      "Currently analyzing: F_P_GBM620_large_del_gene_only_list\n",
      "Currently analyzing: F_R_GBM691_large_del_gene_only_list\n",
      "Currently analyzing: G_P_GBM454_large_del_gene_only_list\n",
      "Currently analyzing: G_R_GBM833_large_del_gene_only_list\n",
      "Currently analyzing: H_P_GBM460_large_del_gene_only_list\n",
      "Currently analyzing: H_R_GBM492_large_del_gene_only_list\n",
      "Currently analyzing: I_P_GBM440_large_del_gene_only_list\n",
      "Currently analyzing: I_R_GBM532_large_del_gene_only_list\n",
      "Currently analyzing: J_P_GBM401_large_del_gene_only_list\n",
      "Currently analyzing: J_RR_GBM551_large_del_gene_only_list\n",
      "Currently analyzing: J_R_GBM498_large_del_gene_only_list\n",
      "Currently analyzing: K_P_GBM529_large_del_gene_only_list\n",
      "Currently analyzing: K_R_GBM832_large_del_gene_only_list\n",
      "Currently analyzing: L_P_GBM618_large_del_gene_only_list\n",
      "Currently analyzing: L_R_SMTB152_large_del_gene_only_list\n",
      "Currently analyzing: M_P_GBM672_large_del_gene_only_list\n",
      "Currently analyzing: M_R_GBM828_large_del_gene_only_list\n",
      "Currently analyzing: N_P_BT2013110_large_del_gene_only_list\n",
      "Currently analyzing: N_R_GBM745_large_del_gene_only_list\n",
      "Currently analyzing: O_P_GBM703_large_del_gene_only_list\n",
      "Currently analyzing: O_R_SMTB781_large_del_gene_only_list\n",
      "Currently analyzing: P_P_SMTB123_large_del_gene_only_list\n",
      "Currently analyzing: P_R_SMTB265_large_del_gene_only_list\n",
      "Currently analyzing: Q_P_SMTB665_large_del_gene_only_list\n",
      "Currently analyzing: Q_R_GBM1070_large_del_gene_only_list\n",
      "Currently analyzing: X_R_GBM945_large_del_gene_only_list\n",
      "Currently analyzing: X_R_SMTB135_large_del_gene_only_list\n",
      "Currently analyzing: X_R_SMTB241_large_del_gene_only_list\n",
      "Currently analyzing: X_R_SMTB302_large_del_gene_only_list\n",
      "Currently analyzing: X_R_SMTB814_large_del_gene_only_list\n"
     ]
    }
   ],
   "source": [
    "large_del_protein_only_list_names = []\n",
    "\n",
    "for df_name in somatic_large_del_gene_only_list_df_names:\n",
    "    \n",
    "    print('Currently analyzing: ' + df_name)\n",
    "        \n",
    "    temp_df = globals()[df_name]\n",
    "    \n",
    "    output_name = df_name[:-15] + '_protein_only_list'\n",
    "    globals()[output_name] = temp_df[temp_df['gene_type']=='protein_coding']\n",
    "    \n",
    "    large_del_protein_only_list_names.append(output_name)"
   ]
  },
  {
   "cell_type": "code",
   "execution_count": 43,
   "id": "232700d4",
   "metadata": {},
   "outputs": [],
   "source": [
    "large_del_gene_protein_only_list_path = \\\n",
    "'/Users/ryanyutian/Desktop/new_panel_TRI_Brain_gene_list/protein_coding_only/large_svs/DEL/'\n",
    "\n",
    "for df_name in large_del_protein_only_list_names:\n",
    "    \n",
    "    temp_df = globals()[df_name]\n",
    "    \n",
    "    temp_df.to_csv((large_del_gene_protein_only_list_path + df_name + '.csv'), index=False, sep=',')"
   ]
  },
  {
   "cell_type": "code",
   "execution_count": null,
   "id": "6a0c1684",
   "metadata": {},
   "outputs": [],
   "source": []
  },
  {
   "cell_type": "markdown",
   "id": "29271e0c",
   "metadata": {},
   "source": [
    "# LARGE DUPS"
   ]
  },
  {
   "cell_type": "code",
   "execution_count": 25,
   "id": "240f728f",
   "metadata": {},
   "outputs": [],
   "source": [
    "large_dup_gene_only_list_path = '/Users/ryanyutian/Desktop/new_panel_TRI_Brain_gene_list/unique_gene_only_annotated/large_svs/DUP/'\n",
    "\n",
    "somatic_large_dup_gene_only_list_df_names = []\n",
    "\n",
    "os.chdir(large_dup_gene_only_list_path)\n",
    "\n",
    "temp_files = sorted([i for i in os.listdir(large_dup_gene_only_list_path) if 'DS' not in i])\n",
    "\n",
    "for file_name in temp_files:\n",
    "\n",
    "    with open(file_name, newline='') as f:\n",
    "        reader = csv.reader(f)\n",
    "        data = list(reader)\n",
    "\n",
    "    if len(data) > 1:\n",
    "\n",
    "        globals()[file_name[:-4]] = pd.read_csv(file_name)\n",
    "        somatic_large_dup_gene_only_list_df_names.append(file_name[:-4])"
   ]
  },
  {
   "cell_type": "code",
   "execution_count": 26,
   "id": "718b9f28",
   "metadata": {},
   "outputs": [],
   "source": [
    "large_dup_gene_types = []\n",
    "\n",
    "for df_name in somatic_large_dup_gene_only_list_df_names:\n",
    "\n",
    "    temp_df = globals()[df_name]\n",
    "    large_dup_gene_types.extend(list(temp_df['gene_type']))"
   ]
  },
  {
   "cell_type": "code",
   "execution_count": 27,
   "id": "94981bea",
   "metadata": {
    "scrolled": true
   },
   "outputs": [
    {
     "data": {
      "text/plain": [
       "array(['TEC', 'lncRNA', 'miRNA', 'misc_RNA', 'processed_pseudogene',\n",
       "       'protein_coding', 'pseudogene', 'rRNA', 'rRNA_pseudogene',\n",
       "       'ribozyme', 'sRNA', 'scRNA', 'scaRNA', 'snRNA', 'snoRNA',\n",
       "       'transcribed_processed_pseudogene',\n",
       "       'transcribed_unitary_pseudogene',\n",
       "       'transcribed_unprocessed_pseudogene',\n",
       "       'translated_unprocessed_pseudogene', 'unitary_pseudogene',\n",
       "       'unprocessed_pseudogene'], dtype='<U34')"
      ]
     },
     "execution_count": 27,
     "metadata": {},
     "output_type": "execute_result"
    }
   ],
   "source": [
    "np.unique(large_dup_gene_types)"
   ]
  },
  {
   "cell_type": "code",
   "execution_count": 28,
   "id": "b81895ac",
   "metadata": {},
   "outputs": [],
   "source": [
    "large_dup_excluded_gene_types = ['TEC', 'processed_pseudogene', 'pseudogene', 'rRNA_pseudogene', \\\n",
    "                                'transcribed_processed_pseudogene', 'transcribed_unitary_pseudogene', \\\n",
    "                                'transcribed_unprocessed_pseudogene', 'translated_unprocessed_pseudogene', \\\n",
    "                                'unitary_pseudogene', 'unprocessed_pseudogene']"
   ]
  },
  {
   "cell_type": "code",
   "execution_count": 29,
   "id": "f10a49dd",
   "metadata": {},
   "outputs": [
    {
     "name": "stdout",
     "output_type": "stream",
     "text": [
      "Currently analyzing: A_RR_GBM809_large_dup_gene_only_list\n",
      "Currently analyzing: A_R_GBM607_large_dup_gene_only_list\n",
      "Currently analyzing: B_P_GBM593_large_dup_gene_only_list\n",
      "Currently analyzing: B_R_GBM898_large_dup_gene_only_list\n",
      "Currently analyzing: C_P_GBM577_large_dup_gene_only_list\n",
      "Currently analyzing: C_R_GBM625_large_dup_gene_only_list\n",
      "Currently analyzing: E_RR_GBM937_large_dup_gene_only_list\n",
      "Currently analyzing: E_R_GBM781_large_dup_gene_only_list\n",
      "Currently analyzing: F_P_GBM620_large_dup_gene_only_list\n",
      "Currently analyzing: F_R_GBM691_large_dup_gene_only_list\n",
      "Currently analyzing: G_P_GBM454_large_dup_gene_only_list\n",
      "Currently analyzing: G_R_GBM833_large_dup_gene_only_list\n",
      "Currently analyzing: H_P_GBM460_large_dup_gene_only_list\n",
      "Currently analyzing: H_R_GBM492_large_dup_gene_only_list\n",
      "Currently analyzing: I_P_GBM440_large_dup_gene_only_list\n",
      "Currently analyzing: I_R_GBM532_large_dup_gene_only_list\n",
      "Currently analyzing: J_P_GBM401_large_dup_gene_only_list\n",
      "Currently analyzing: J_RR_GBM551_large_dup_gene_only_list\n",
      "Currently analyzing: J_R_GBM498_large_dup_gene_only_list\n",
      "Currently analyzing: K_P_GBM529_large_dup_gene_only_list\n",
      "Currently analyzing: K_R_GBM832_large_dup_gene_only_list\n",
      "Currently analyzing: L_P_GBM618_large_dup_gene_only_list\n",
      "Currently analyzing: L_R_SMTB152_large_dup_gene_only_list\n",
      "Currently analyzing: M_P_GBM672_large_dup_gene_only_list\n",
      "Currently analyzing: M_R_GBM828_large_dup_gene_only_list\n",
      "Currently analyzing: N_P_BT2013110_large_dup_gene_only_list\n",
      "Currently analyzing: N_R_GBM745_large_dup_gene_only_list\n",
      "Currently analyzing: O_P_GBM703_large_dup_gene_only_list\n",
      "Currently analyzing: O_R_SMTB781_large_dup_gene_only_list\n",
      "Currently analyzing: P_P_SMTB123_large_dup_gene_only_list\n",
      "Currently analyzing: P_R_SMTB265_large_dup_gene_only_list\n",
      "Currently analyzing: Q_P_SMTB665_large_dup_gene_only_list\n",
      "Currently analyzing: Q_R_GBM1070_large_dup_gene_only_list\n",
      "Currently analyzing: X_R_GBM945_large_dup_gene_only_list\n",
      "Currently analyzing: X_R_SMTB135_large_dup_gene_only_list\n",
      "Currently analyzing: X_R_SMTB241_large_dup_gene_only_list\n",
      "Currently analyzing: X_R_SMTB302_large_dup_gene_only_list\n",
      "Currently analyzing: X_R_SMTB814_large_dup_gene_only_list\n"
     ]
    }
   ],
   "source": [
    "large_dup_gprofiler_list_names = []\n",
    "\n",
    "for df_name in somatic_large_dup_gene_only_list_df_names:\n",
    "    \n",
    "    print('Currently analyzing: ' + df_name)\n",
    "        \n",
    "    temp_df = globals()[df_name]\n",
    "    \n",
    "    output_name = df_name[:-15] + '_gprofiler_list'\n",
    "    globals()[output_name] = temp_df[~temp_df['gene_type'].isin(large_dup_excluded_gene_types)]\n",
    "    \n",
    "    large_dup_gprofiler_list_names.append(output_name)"
   ]
  },
  {
   "cell_type": "code",
   "execution_count": 30,
   "id": "c606af97",
   "metadata": {},
   "outputs": [],
   "source": [
    "large_dup_gene_gprofiler_list_path = \\\n",
    "'/Users/ryanyutian/Desktop/new_panel_TRI_Brain_gene_list/gprofiler_ready/large_svs/DUP/'\n",
    "\n",
    "for df_name in large_dup_gprofiler_list_names:\n",
    "    \n",
    "    temp_df = globals()[df_name]\n",
    "    \n",
    "    temp_df.to_csv((large_dup_gene_gprofiler_list_path + df_name + '.csv'), index=False, sep=',')"
   ]
  },
  {
   "cell_type": "code",
   "execution_count": 40,
   "id": "31138458",
   "metadata": {
    "scrolled": false
   },
   "outputs": [
    {
     "name": "stdout",
     "output_type": "stream",
     "text": [
      "Currently analyzing: A_RR_GBM809_large_dup_gene_only_list\n",
      "Currently analyzing: A_R_GBM607_large_dup_gene_only_list\n",
      "Currently analyzing: B_P_GBM593_large_dup_gene_only_list\n",
      "Currently analyzing: B_R_GBM898_large_dup_gene_only_list\n",
      "Currently analyzing: C_P_GBM577_large_dup_gene_only_list\n",
      "Currently analyzing: C_R_GBM625_large_dup_gene_only_list\n",
      "Currently analyzing: E_RR_GBM937_large_dup_gene_only_list\n",
      "Currently analyzing: E_R_GBM781_large_dup_gene_only_list\n",
      "Currently analyzing: F_P_GBM620_large_dup_gene_only_list\n",
      "Currently analyzing: F_R_GBM691_large_dup_gene_only_list\n",
      "Currently analyzing: G_P_GBM454_large_dup_gene_only_list\n",
      "Currently analyzing: G_R_GBM833_large_dup_gene_only_list\n",
      "Currently analyzing: H_P_GBM460_large_dup_gene_only_list\n",
      "Currently analyzing: H_R_GBM492_large_dup_gene_only_list\n",
      "Currently analyzing: I_P_GBM440_large_dup_gene_only_list\n",
      "Currently analyzing: I_R_GBM532_large_dup_gene_only_list\n",
      "Currently analyzing: J_P_GBM401_large_dup_gene_only_list\n",
      "Currently analyzing: J_RR_GBM551_large_dup_gene_only_list\n",
      "Currently analyzing: J_R_GBM498_large_dup_gene_only_list\n",
      "Currently analyzing: K_P_GBM529_large_dup_gene_only_list\n",
      "Currently analyzing: K_R_GBM832_large_dup_gene_only_list\n",
      "Currently analyzing: L_P_GBM618_large_dup_gene_only_list\n",
      "Currently analyzing: L_R_SMTB152_large_dup_gene_only_list\n",
      "Currently analyzing: M_P_GBM672_large_dup_gene_only_list\n",
      "Currently analyzing: M_R_GBM828_large_dup_gene_only_list\n",
      "Currently analyzing: N_P_BT2013110_large_dup_gene_only_list\n",
      "Currently analyzing: N_R_GBM745_large_dup_gene_only_list\n",
      "Currently analyzing: O_P_GBM703_large_dup_gene_only_list\n",
      "Currently analyzing: O_R_SMTB781_large_dup_gene_only_list\n",
      "Currently analyzing: P_P_SMTB123_large_dup_gene_only_list\n",
      "Currently analyzing: P_R_SMTB265_large_dup_gene_only_list\n",
      "Currently analyzing: Q_P_SMTB665_large_dup_gene_only_list\n",
      "Currently analyzing: Q_R_GBM1070_large_dup_gene_only_list\n",
      "Currently analyzing: X_R_GBM945_large_dup_gene_only_list\n",
      "Currently analyzing: X_R_SMTB135_large_dup_gene_only_list\n",
      "Currently analyzing: X_R_SMTB241_large_dup_gene_only_list\n",
      "Currently analyzing: X_R_SMTB302_large_dup_gene_only_list\n",
      "Currently analyzing: X_R_SMTB814_large_dup_gene_only_list\n"
     ]
    }
   ],
   "source": [
    "large_dup_protein_only_list_names = []\n",
    "\n",
    "for df_name in somatic_large_dup_gene_only_list_df_names:\n",
    "    \n",
    "    print('Currently analyzing: ' + df_name)\n",
    "        \n",
    "    temp_df = globals()[df_name]\n",
    "    \n",
    "    output_name = df_name[:-15] + '_protein_only_list'\n",
    "    globals()[output_name] = temp_df[temp_df['gene_type']=='protein_coding']\n",
    "    \n",
    "    large_dup_protein_only_list_names.append(output_name)"
   ]
  },
  {
   "cell_type": "code",
   "execution_count": 41,
   "id": "3285557b",
   "metadata": {},
   "outputs": [],
   "source": [
    "large_dup_gene_protein_only_list_path = \\\n",
    "'/Users/ryanyutian/Desktop/new_panel_TRI_Brain_gene_list/protein_coding_only/large_svs/DUP/'\n",
    "\n",
    "for df_name in large_dup_protein_only_list_names:\n",
    "    \n",
    "    temp_df = globals()[df_name]\n",
    "    \n",
    "    temp_df.to_csv((large_dup_gene_protein_only_list_path + df_name + '.csv'), index=False, sep=',')"
   ]
  },
  {
   "cell_type": "code",
   "execution_count": null,
   "id": "171fe037",
   "metadata": {},
   "outputs": [],
   "source": []
  },
  {
   "cell_type": "markdown",
   "id": "0e57e0d5",
   "metadata": {},
   "source": [
    "# LARGE INVS"
   ]
  },
  {
   "cell_type": "code",
   "execution_count": 31,
   "id": "e6733e49",
   "metadata": {},
   "outputs": [],
   "source": [
    "large_inv_gene_only_list_path = '/Users/ryanyutian/Desktop/new_panel_TRI_Brain_gene_list/unique_gene_only_annotated/large_svs/INV/'\n",
    "\n",
    "somatic_large_inv_gene_only_list_df_names = []\n",
    "\n",
    "os.chdir(large_inv_gene_only_list_path)\n",
    "\n",
    "temp_files = sorted([i for i in os.listdir(large_inv_gene_only_list_path) if 'DS' not in i])\n",
    "\n",
    "for file_name in temp_files:\n",
    "\n",
    "    with open(file_name, newline='') as f:\n",
    "        reader = csv.reader(f)\n",
    "        data = list(reader)\n",
    "\n",
    "    if len(data) > 1:\n",
    "\n",
    "        globals()[file_name[:-4]] = pd.read_csv(file_name)\n",
    "        somatic_large_inv_gene_only_list_df_names.append(file_name[:-4])"
   ]
  },
  {
   "cell_type": "code",
   "execution_count": 32,
   "id": "dd27300c",
   "metadata": {},
   "outputs": [],
   "source": [
    "large_inv_gene_types = []\n",
    "\n",
    "for df_name in somatic_large_inv_gene_only_list_df_names:\n",
    "\n",
    "    temp_df = globals()[df_name]\n",
    "    large_inv_gene_types.extend(list(temp_df['gene_type']))"
   ]
  },
  {
   "cell_type": "code",
   "execution_count": 33,
   "id": "aa270807",
   "metadata": {},
   "outputs": [
    {
     "data": {
      "text/plain": [
       "array(['TEC', 'lncRNA', 'miRNA', 'misc_RNA', 'processed_pseudogene',\n",
       "       'protein_coding', 'rRNA_pseudogene', 'scaRNA', 'snRNA', 'snoRNA',\n",
       "       'transcribed_processed_pseudogene',\n",
       "       'transcribed_unitary_pseudogene',\n",
       "       'transcribed_unprocessed_pseudogene', 'unitary_pseudogene',\n",
       "       'unprocessed_pseudogene'], dtype='<U34')"
      ]
     },
     "execution_count": 33,
     "metadata": {},
     "output_type": "execute_result"
    }
   ],
   "source": [
    "np.unique(large_inv_gene_types)"
   ]
  },
  {
   "cell_type": "code",
   "execution_count": 34,
   "id": "19ee3497",
   "metadata": {},
   "outputs": [],
   "source": [
    "large_inv_excluded_gene_types = ['TEC', 'processed_pseudogene', 'pseudogene', 'rRNA_pseudogene', \\\n",
    "                                'transcribed_processed_pseudogene', 'transcribed_unitary_pseudogene', \\\n",
    "                                'transcribed_unprocessed_pseudogene', 'translated_unprocessed_pseudogene', \\\n",
    "                                'unitary_pseudogene', 'unprocessed_pseudogene']"
   ]
  },
  {
   "cell_type": "code",
   "execution_count": 35,
   "id": "68995d83",
   "metadata": {},
   "outputs": [
    {
     "name": "stdout",
     "output_type": "stream",
     "text": [
      "Currently analyzing: A_RR_GBM809_large_inv_gene_only_list\n",
      "Currently analyzing: A_R_GBM607_large_inv_gene_only_list\n",
      "Currently analyzing: B_P_GBM593_large_inv_gene_only_list\n",
      "Currently analyzing: B_R_GBM898_large_inv_gene_only_list\n",
      "Currently analyzing: C_P_GBM577_large_inv_gene_only_list\n",
      "Currently analyzing: C_R_GBM625_large_inv_gene_only_list\n",
      "Currently analyzing: E_RR_GBM937_large_inv_gene_only_list\n",
      "Currently analyzing: E_R_GBM781_large_inv_gene_only_list\n",
      "Currently analyzing: F_P_GBM620_large_inv_gene_only_list\n",
      "Currently analyzing: F_R_GBM691_large_inv_gene_only_list\n",
      "Currently analyzing: G_P_GBM454_large_inv_gene_only_list\n",
      "Currently analyzing: G_R_GBM833_large_inv_gene_only_list\n",
      "Currently analyzing: H_P_GBM460_large_inv_gene_only_list\n",
      "Currently analyzing: H_R_GBM492_large_inv_gene_only_list\n",
      "Currently analyzing: I_P_GBM440_large_inv_gene_only_list\n",
      "Currently analyzing: I_R_GBM532_large_inv_gene_only_list\n",
      "Currently analyzing: J_P_GBM401_large_inv_gene_only_list\n",
      "Currently analyzing: J_RR_GBM551_large_inv_gene_only_list\n",
      "Currently analyzing: J_R_GBM498_large_inv_gene_only_list\n",
      "Currently analyzing: K_P_GBM529_large_inv_gene_only_list\n",
      "Currently analyzing: K_R_GBM832_large_inv_gene_only_list\n",
      "Currently analyzing: L_P_GBM618_large_inv_gene_only_list\n",
      "Currently analyzing: L_R_SMTB152_large_inv_gene_only_list\n",
      "Currently analyzing: M_P_GBM672_large_inv_gene_only_list\n",
      "Currently analyzing: N_P_BT2013110_large_inv_gene_only_list\n",
      "Currently analyzing: N_R_GBM745_large_inv_gene_only_list\n",
      "Currently analyzing: O_P_GBM703_large_inv_gene_only_list\n",
      "Currently analyzing: O_R_SMTB781_large_inv_gene_only_list\n",
      "Currently analyzing: P_P_SMTB123_large_inv_gene_only_list\n",
      "Currently analyzing: P_R_SMTB265_large_inv_gene_only_list\n",
      "Currently analyzing: Q_R_GBM1070_large_inv_gene_only_list\n",
      "Currently analyzing: X_R_GBM945_large_inv_gene_only_list\n",
      "Currently analyzing: X_R_SMTB135_large_inv_gene_only_list\n",
      "Currently analyzing: X_R_SMTB241_large_inv_gene_only_list\n",
      "Currently analyzing: X_R_SMTB302_large_inv_gene_only_list\n",
      "Currently analyzing: X_R_SMTB814_large_inv_gene_only_list\n"
     ]
    }
   ],
   "source": [
    "large_inv_gprofiler_list_names = []\n",
    "\n",
    "for df_name in somatic_large_inv_gene_only_list_df_names:\n",
    "    \n",
    "    print('Currently analyzing: ' + df_name)\n",
    "        \n",
    "    temp_df = globals()[df_name]\n",
    "    \n",
    "    output_name = df_name[:-15] + '_gprofiler_list'\n",
    "    globals()[output_name] = temp_df[~temp_df['gene_type'].isin(large_inv_excluded_gene_types)]\n",
    "    \n",
    "    large_inv_gprofiler_list_names.append(output_name)"
   ]
  },
  {
   "cell_type": "code",
   "execution_count": 36,
   "id": "f6a9ef66",
   "metadata": {},
   "outputs": [],
   "source": [
    "large_inv_gene_gprofiler_list_path = \\\n",
    "'/Users/ryanyutian/Desktop/new_panel_TRI_Brain_gene_list/gprofiler_ready/large_svs/inv/'\n",
    "\n",
    "for df_name in large_inv_gprofiler_list_names:\n",
    "    \n",
    "    temp_df = globals()[df_name]\n",
    "    \n",
    "    temp_df.to_csv((large_inv_gene_gprofiler_list_path + df_name + '.csv'), index=False, sep=',')"
   ]
  },
  {
   "cell_type": "code",
   "execution_count": 37,
   "id": "32378aba",
   "metadata": {
    "scrolled": false
   },
   "outputs": [
    {
     "name": "stdout",
     "output_type": "stream",
     "text": [
      "Currently analyzing: A_RR_GBM809_large_inv_gene_only_list\n",
      "Currently analyzing: A_R_GBM607_large_inv_gene_only_list\n",
      "Currently analyzing: B_P_GBM593_large_inv_gene_only_list\n",
      "Currently analyzing: B_R_GBM898_large_inv_gene_only_list\n",
      "Currently analyzing: C_P_GBM577_large_inv_gene_only_list\n",
      "Currently analyzing: C_R_GBM625_large_inv_gene_only_list\n",
      "Currently analyzing: E_RR_GBM937_large_inv_gene_only_list\n",
      "Currently analyzing: E_R_GBM781_large_inv_gene_only_list\n",
      "Currently analyzing: F_P_GBM620_large_inv_gene_only_list\n",
      "Currently analyzing: F_R_GBM691_large_inv_gene_only_list\n",
      "Currently analyzing: G_P_GBM454_large_inv_gene_only_list\n",
      "Currently analyzing: G_R_GBM833_large_inv_gene_only_list\n",
      "Currently analyzing: H_P_GBM460_large_inv_gene_only_list\n",
      "Currently analyzing: H_R_GBM492_large_inv_gene_only_list\n",
      "Currently analyzing: I_P_GBM440_large_inv_gene_only_list\n",
      "Currently analyzing: I_R_GBM532_large_inv_gene_only_list\n",
      "Currently analyzing: J_P_GBM401_large_inv_gene_only_list\n",
      "Currently analyzing: J_RR_GBM551_large_inv_gene_only_list\n",
      "Currently analyzing: J_R_GBM498_large_inv_gene_only_list\n",
      "Currently analyzing: K_P_GBM529_large_inv_gene_only_list\n",
      "Currently analyzing: K_R_GBM832_large_inv_gene_only_list\n",
      "Currently analyzing: L_P_GBM618_large_inv_gene_only_list\n",
      "Currently analyzing: L_R_SMTB152_large_inv_gene_only_list\n",
      "Currently analyzing: M_P_GBM672_large_inv_gene_only_list\n",
      "Currently analyzing: N_P_BT2013110_large_inv_gene_only_list\n",
      "Currently analyzing: N_R_GBM745_large_inv_gene_only_list\n",
      "Currently analyzing: O_P_GBM703_large_inv_gene_only_list\n",
      "Currently analyzing: O_R_SMTB781_large_inv_gene_only_list\n",
      "Currently analyzing: P_P_SMTB123_large_inv_gene_only_list\n",
      "Currently analyzing: P_R_SMTB265_large_inv_gene_only_list\n",
      "Currently analyzing: Q_R_GBM1070_large_inv_gene_only_list\n",
      "Currently analyzing: X_R_GBM945_large_inv_gene_only_list\n",
      "Currently analyzing: X_R_SMTB135_large_inv_gene_only_list\n",
      "Currently analyzing: X_R_SMTB241_large_inv_gene_only_list\n",
      "Currently analyzing: X_R_SMTB302_large_inv_gene_only_list\n",
      "Currently analyzing: X_R_SMTB814_large_inv_gene_only_list\n"
     ]
    }
   ],
   "source": [
    "large_inv_protein_only_list_names = []\n",
    "\n",
    "for df_name in somatic_large_inv_gene_only_list_df_names:\n",
    "    \n",
    "    print('Currently analyzing: ' + df_name)\n",
    "        \n",
    "    temp_df = globals()[df_name]\n",
    "    \n",
    "    output_name = df_name[:-15] + '_protein_only_list'\n",
    "    globals()[output_name] = temp_df[temp_df['gene_type']=='protein_coding']\n",
    "    \n",
    "    large_inv_protein_only_list_names.append(output_name)"
   ]
  },
  {
   "cell_type": "code",
   "execution_count": 39,
   "id": "22ee3c04",
   "metadata": {},
   "outputs": [],
   "source": [
    "large_inv_gene_protein_only_list_path = \\\n",
    "'/Users/ryanyutian/Desktop/new_panel_TRI_Brain_gene_list/protein_coding_only/large_svs/INV/'\n",
    "\n",
    "for df_name in large_inv_protein_only_list_names:\n",
    "    \n",
    "    temp_df = globals()[df_name]\n",
    "    \n",
    "    temp_df.to_csv((large_inv_gene_protein_only_list_path + df_name + '.csv'), index=False, sep=',')"
   ]
  },
  {
   "cell_type": "code",
   "execution_count": null,
   "id": "2b3fd59f",
   "metadata": {},
   "outputs": [],
   "source": []
  }
 ],
 "metadata": {
  "kernelspec": {
   "display_name": "Python 3",
   "language": "python",
   "name": "python3"
  },
  "language_info": {
   "codemirror_mode": {
    "name": "ipython",
    "version": 3
   },
   "file_extension": ".py",
   "mimetype": "text/x-python",
   "name": "python",
   "nbconvert_exporter": "python",
   "pygments_lexer": "ipython3",
   "version": "3.6.13"
  }
 },
 "nbformat": 4,
 "nbformat_minor": 5
}
