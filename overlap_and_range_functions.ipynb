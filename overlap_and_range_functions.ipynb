{
 "cells": [
  {
   "cell_type": "code",
   "execution_count": null,
   "id": "abb68b87",
   "metadata": {},
   "outputs": [],
   "source": []
  },
  {
   "cell_type": "code",
   "execution_count": null,
   "id": "d27ea9f3",
   "metadata": {},
   "outputs": [],
   "source": [
    "def compile_chrom_pos_heatmap_from_SVs(SV_df, chrom):\n",
    "    \n",
    "    # Get all SVs on 'chrom'\n",
    "    temp_chrom_df = SV_df[SV_df['CHROM'] == chrom]\n",
    "    \n",
    "    # Get the size of the array needed (at max_position of chromosome) \n",
    "    temp_max_pos = np.max(temp_chrom_df['END'])\n",
    "    \n",
    "    ## Note the first position is 0 here, and will never have a value > 0\n",
    "    # Create array of 0's based on max_position\n",
    "    heatmap_array = np.zeros(temp_max_pos + 1)\n",
    "    \n",
    "    # Add 1 to array based on position of deletion\n",
    "    for index, row in temp_chrom_df.iterrows():\n",
    "        \n",
    "        heatmap_array[row['POS']:(row['END']+1)] += 1\n",
    "    \n",
    "    return heatmap_array"
   ]
  },
  {
   "cell_type": "code",
   "execution_count": null,
   "id": "adb235ae",
   "metadata": {},
   "outputs": [],
   "source": [
    "def ranges(i):\n",
    "    \n",
    "    for a, b in itertools.groupby(enumerate(i), lambda pair: pair[1] - pair[0]):\n",
    "    \n",
    "        b = list(b)\n",
    "        \n",
    "        yield b[0][1], b[-1][1]"
   ]
  },
  {
   "cell_type": "code",
   "execution_count": null,
   "id": "8dc5497b",
   "metadata": {},
   "outputs": [],
   "source": [
    "def chrom_df_to_interval_df(chrom_df):\n",
    "    \n",
    "    output_df = pd.DataFrame(columns = ['chr', 'overlap_count', 'start', 'end'])\n",
    "    \n",
    "    for index, row in chrom_df.iterrows():\n",
    "        \n",
    "        temp_range_list = list(ranges(ast.literal_eval(row['positions'])))\n",
    "        \n",
    "        for interval in temp_range_list:\n",
    "            \n",
    "            temp_row = {'chr': row['chrom'], 'overlap_count': row['overlap_count'], \\\n",
    "                       'start': interval[0], 'end': interval[1]}\n",
    "            \n",
    "            output_df = output_df.append(temp_row, ignore_index=True)\n",
    "            \n",
    "    return output_df"
   ]
  },
  {
   "cell_type": "code",
   "execution_count": null,
   "id": "fcb2c96f",
   "metadata": {},
   "outputs": [],
   "source": [
    "def find_max_list(list_of_names):\n",
    "    \n",
    "    list_len = [len(globals()[i]) for i in list_of_names]\n",
    "    \n",
    "    return max(list_len)"
   ]
  },
  {
   "cell_type": "code",
   "execution_count": null,
   "id": "5de90308",
   "metadata": {},
   "outputs": [],
   "source": [
    "def percent_overlap(input_start, input_end, gene_start, gene_end):\n",
    "    \n",
    "    o  = min(input_end, gene_end) - max(input_start, gene_start) + 1    \n",
    "    perc = np.round(o/float(int(gene_end)-int(gene_start)+1)*100, 2)\n",
    "    \n",
    "    return perc"
   ]
  },
  {
   "cell_type": "code",
   "execution_count": null,
   "id": "e26b98cb",
   "metadata": {},
   "outputs": [],
   "source": [
    "def overlap_func(input_chr, input_start, input_end, input_ind, input_sv_type, input_sample_id, df):\n",
    "    \n",
    "    output_df = df[df['chr'] == input_chr]\n",
    "    output_df = output_df[(output_df['end'] >= input_start) & (output_df['start'] <= input_end)]\n",
    "        \n",
    "    if len(output_df) != 0:\n",
    "        \n",
    "        output_df['percent_overlap'] = output_df.apply(lambda row: \\\n",
    "                                                 percent_overlap(input_start, input_end, row['start'], row['end']), axis=1)\n",
    "\n",
    "        output_df['input_start'] = input_start\n",
    "        output_df['input_end'] = input_end\n",
    "        output_df['input_ind'] = input_ind\n",
    "        output_df['input_sv_type'] = input_sv_type\n",
    "        output_df['input_sample_id'] = input_sample_id\n",
    "        \n",
    "    \n",
    "    return output_df"
   ]
  },
  {
   "cell_type": "code",
   "execution_count": null,
   "id": "d0c13385",
   "metadata": {},
   "outputs": [],
   "source": [
    "def overlap_func_wo_typeandid(input_chr, input_start, input_end, input_ind, df):\n",
    "    \n",
    "    output_df = df[df['chr'] == input_chr]\n",
    "    output_df = output_df[(output_df['end'] >= input_start) & (output_df['start'] <= input_end)]\n",
    "        \n",
    "    if len(output_df) != 0:\n",
    "        \n",
    "        output_df['percent_overlap'] = output_df.apply(lambda row: \\\n",
    "                                                 percent_overlap(input_start, input_end, row['start'], row['end']), axis=1)\n",
    "\n",
    "        output_df['input_start'] = input_start\n",
    "        output_df['input_end'] = input_end\n",
    "        output_df['input_ind'] = input_ind\n",
    "        \n",
    "    \n",
    "    return output_df"
   ]
  },
  {
   "cell_type": "code",
   "execution_count": null,
   "id": "b262e59c",
   "metadata": {},
   "outputs": [],
   "source": []
  }
 ],
 "metadata": {
  "kernelspec": {
   "display_name": "Python 3",
   "language": "python",
   "name": "python3"
  },
  "language_info": {
   "codemirror_mode": {
    "name": "ipython",
    "version": 3
   },
   "file_extension": ".py",
   "mimetype": "text/x-python",
   "name": "python",
   "nbconvert_exporter": "python",
   "pygments_lexer": "ipython3",
   "version": "3.6.13"
  }
 },
 "nbformat": 4,
 "nbformat_minor": 5
}
