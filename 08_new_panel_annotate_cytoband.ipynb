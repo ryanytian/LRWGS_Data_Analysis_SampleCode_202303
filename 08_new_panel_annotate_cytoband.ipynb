{
 "cells": [
  {
   "cell_type": "code",
   "execution_count": 1,
   "id": "46ab290b",
   "metadata": {},
   "outputs": [],
   "source": [
    "# import necessary libraries for the analysis\n",
    "import os\n",
    "import numpy as np\n",
    "import matplotlib.pyplot as plt\n",
    "import pandas as pd\n",
    "from pathlib import Path"
   ]
  },
  {
   "cell_type": "code",
   "execution_count": 2,
   "id": "9565ae15",
   "metadata": {},
   "outputs": [],
   "source": [
    "## Functions used below are imported from another notebook, run before changing directory\n",
    "\n",
    "%run overlap_and_range_functions.ipynb"
   ]
  },
  {
   "cell_type": "code",
   "execution_count": 3,
   "id": "c8d19589",
   "metadata": {},
   "outputs": [
    {
     "data": {
      "text/html": [
       "<div>\n",
       "<style scoped>\n",
       "    .dataframe tbody tr th:only-of-type {\n",
       "        vertical-align: middle;\n",
       "    }\n",
       "\n",
       "    .dataframe tbody tr th {\n",
       "        vertical-align: top;\n",
       "    }\n",
       "\n",
       "    .dataframe thead th {\n",
       "        text-align: right;\n",
       "    }\n",
       "</style>\n",
       "<table border=\"1\" class=\"dataframe\">\n",
       "  <thead>\n",
       "    <tr style=\"text-align: right;\">\n",
       "      <th></th>\n",
       "      <th>chrom</th>\n",
       "      <th>chromStart</th>\n",
       "      <th>chromEnd</th>\n",
       "      <th>name</th>\n",
       "      <th>gieStain</th>\n",
       "    </tr>\n",
       "  </thead>\n",
       "  <tbody>\n",
       "    <tr>\n",
       "      <th>0</th>\n",
       "      <td>chr1</td>\n",
       "      <td>0</td>\n",
       "      <td>2300000</td>\n",
       "      <td>p36.33</td>\n",
       "      <td>gneg</td>\n",
       "    </tr>\n",
       "    <tr>\n",
       "      <th>1</th>\n",
       "      <td>chr1</td>\n",
       "      <td>2300000</td>\n",
       "      <td>5300000</td>\n",
       "      <td>p36.32</td>\n",
       "      <td>gpos25</td>\n",
       "    </tr>\n",
       "    <tr>\n",
       "      <th>2</th>\n",
       "      <td>chr1</td>\n",
       "      <td>5300000</td>\n",
       "      <td>7100000</td>\n",
       "      <td>p36.31</td>\n",
       "      <td>gneg</td>\n",
       "    </tr>\n",
       "    <tr>\n",
       "      <th>3</th>\n",
       "      <td>chr1</td>\n",
       "      <td>7100000</td>\n",
       "      <td>9100000</td>\n",
       "      <td>p36.23</td>\n",
       "      <td>gpos25</td>\n",
       "    </tr>\n",
       "    <tr>\n",
       "      <th>4</th>\n",
       "      <td>chr1</td>\n",
       "      <td>9100000</td>\n",
       "      <td>12500000</td>\n",
       "      <td>p36.22</td>\n",
       "      <td>gneg</td>\n",
       "    </tr>\n",
       "    <tr>\n",
       "      <th>...</th>\n",
       "      <td>...</td>\n",
       "      <td>...</td>\n",
       "      <td>...</td>\n",
       "      <td>...</td>\n",
       "      <td>...</td>\n",
       "    </tr>\n",
       "    <tr>\n",
       "      <th>1473</th>\n",
       "      <td>chr22_KI270735v1_random</td>\n",
       "      <td>0</td>\n",
       "      <td>42811</td>\n",
       "      <td>NaN</td>\n",
       "      <td>gneg</td>\n",
       "    </tr>\n",
       "    <tr>\n",
       "      <th>1474</th>\n",
       "      <td>chr22_KI270736v1_random</td>\n",
       "      <td>0</td>\n",
       "      <td>181920</td>\n",
       "      <td>NaN</td>\n",
       "      <td>gneg</td>\n",
       "    </tr>\n",
       "    <tr>\n",
       "      <th>1475</th>\n",
       "      <td>chr22_KI270737v1_random</td>\n",
       "      <td>0</td>\n",
       "      <td>103838</td>\n",
       "      <td>NaN</td>\n",
       "      <td>gneg</td>\n",
       "    </tr>\n",
       "    <tr>\n",
       "      <th>1476</th>\n",
       "      <td>chr22_KI270738v1_random</td>\n",
       "      <td>0</td>\n",
       "      <td>99375</td>\n",
       "      <td>NaN</td>\n",
       "      <td>gneg</td>\n",
       "    </tr>\n",
       "    <tr>\n",
       "      <th>1477</th>\n",
       "      <td>chr22_KI270739v1_random</td>\n",
       "      <td>0</td>\n",
       "      <td>73985</td>\n",
       "      <td>NaN</td>\n",
       "      <td>gneg</td>\n",
       "    </tr>\n",
       "  </tbody>\n",
       "</table>\n",
       "<p>1478 rows × 5 columns</p>\n",
       "</div>"
      ],
      "text/plain": [
       "                        chrom  chromStart  chromEnd    name gieStain\n",
       "0                        chr1           0   2300000  p36.33     gneg\n",
       "1                        chr1     2300000   5300000  p36.32   gpos25\n",
       "2                        chr1     5300000   7100000  p36.31     gneg\n",
       "3                        chr1     7100000   9100000  p36.23   gpos25\n",
       "4                        chr1     9100000  12500000  p36.22     gneg\n",
       "...                       ...         ...       ...     ...      ...\n",
       "1473  chr22_KI270735v1_random           0     42811     NaN     gneg\n",
       "1474  chr22_KI270736v1_random           0    181920     NaN     gneg\n",
       "1475  chr22_KI270737v1_random           0    103838     NaN     gneg\n",
       "1476  chr22_KI270738v1_random           0     99375     NaN     gneg\n",
       "1477  chr22_KI270739v1_random           0     73985     NaN     gneg\n",
       "\n",
       "[1478 rows x 5 columns]"
      ]
     },
     "execution_count": 3,
     "metadata": {},
     "output_type": "execute_result"
    }
   ],
   "source": [
    "chromband = pd.read_table(\"/Users/ryanyutian/Desktop/annotation_dataset/chromosome_band_hg38.tsv\", \\\n",
    "                        sep = \"\\t\")\n",
    "chromband"
   ]
  },
  {
   "cell_type": "code",
   "execution_count": 4,
   "id": "1efc3c58",
   "metadata": {},
   "outputs": [],
   "source": [
    "def chromband_overlap_func(input_chr, input_start, input_end, input_ind, input_sv_type, input_sample_id, df):\n",
    "    \n",
    "    output_df = df[df['chrom'] == input_chr]\n",
    "    output_df = output_df[(output_df['chromEnd'] >= input_start) & (output_df['chromStart'] <= input_end)]\n",
    "        \n",
    "    if len(output_df) != 0:\n",
    "        \n",
    "        output_df['percent_overlap'] = output_df.apply(lambda row: \\\n",
    "                                                 percent_overlap(input_start, input_end, row['chromStart'], row['chromEnd']), axis=1)\n",
    "\n",
    "        output_df['input_start'] = input_start\n",
    "        output_df['input_end'] = input_end\n",
    "        output_df['input_ind'] = input_ind\n",
    "        output_df['input_sv_type'] = input_sv_type\n",
    "        output_df['input_sample_id'] = input_sample_id\n",
    "        \n",
    "    \n",
    "    return output_df"
   ]
  },
  {
   "cell_type": "markdown",
   "id": "48742a7c",
   "metadata": {},
   "source": [
    "# Small dels"
   ]
  },
  {
   "cell_type": "code",
   "execution_count": 5,
   "id": "a768d5fb",
   "metadata": {},
   "outputs": [],
   "source": [
    "### Load filtered somatic small deletions ###\n",
    "\n",
    "##\n",
    "somatic_small_del_path = '/Users/ryanyutian/Desktop/new_panel_TRI_Brain_glioma_sv_processed/somatic_panel_wo_gap_wo_highoverlap/small_dels'\n",
    "\n",
    "somatic_small_del_wo_highoverlap_df_names = []\n",
    "\n",
    "os.chdir(somatic_small_del_path)\n",
    "temp_files = sorted([i for i in os.listdir(somatic_small_del_path) if 'DS' not in i])\n",
    "\n",
    "for file_name in temp_files:\n",
    "    \n",
    "    globals()[file_name[:-4]] = pd.read_csv(file_name)\n",
    "    somatic_small_del_wo_highoverlap_df_names.append(file_name[:-4])"
   ]
  },
  {
   "cell_type": "code",
   "execution_count": null,
   "id": "73224dec",
   "metadata": {},
   "outputs": [],
   "source": [
    "small_del_gene_list_names = []\n",
    "\n",
    "for small_del_df_name in somatic_small_del_wo_highoverlap_df_names:\n",
    "    \n",
    "    print('Currently analyzing: ' + small_del_df_name[:-41])\n",
    "    temp_df = globals()[small_del_df_name]\n",
    "    temp_output_df = pd.DataFrame()\n",
    "    \n",
    "    for index, row in temp_df.iterrows():\n",
    "        \n",
    "        temp_overlap = overlap_func(row['CHROM'], row['POS'], row['END'], index, \\\n",
    "                                    'del', small_del_df_name[:-41], chromband)\n",
    "        temp_output_df = temp_output_df.append(temp_overlap)\n",
    "    \n",
    "    temp_gene_list_name = small_del_df_name[:-41] + '_small_del_gene_list'\n",
    "    small_del_gene_list_names.append(temp_gene_list_name)\n",
    "    \n",
    "    globals()[temp_gene_list_name] = temp_output_df"
   ]
  },
  {
   "cell_type": "code",
   "execution_count": 7,
   "id": "fc1ff591",
   "metadata": {},
   "outputs": [],
   "source": [
    "small_del_gene_list_path = '/Users/ryanyutian/Desktop/new_panel_TRI_Brain_gene_list/all/small_dels/'\n",
    "\n",
    "for df_name in small_del_gene_list_names:\n",
    "    \n",
    "    temp_df = globals()[df_name]\n",
    "    temp_df.to_csv((small_del_gene_list_path + df_name + '.csv'), index=False, sep=',')"
   ]
  },
  {
   "cell_type": "markdown",
   "id": "19c35fae",
   "metadata": {},
   "source": [
    "# Large dels"
   ]
  },
  {
   "cell_type": "code",
   "execution_count": 9,
   "id": "5299d5b6",
   "metadata": {},
   "outputs": [],
   "source": [
    "## DELs\n",
    "somatic_large_DEL_path = '/Users/ryanyutian/Desktop/new_panel_TRI_Brain_glioma_sv_processed/somatic_panel_final/large_svs/DEL'\n",
    "\n",
    "somatic_large_DEL_wo_highoverlap_df_names = []\n",
    "\n",
    "os.chdir(somatic_large_DEL_path)\n",
    "temp_files = sorted([i for i in os.listdir(somatic_large_DEL_path) if 'DS' not in i])\n",
    "\n",
    "for file_name in temp_files:\n",
    "    \n",
    "    globals()[file_name[:-4]] = pd.read_csv(file_name)\n",
    "    somatic_large_DEL_wo_highoverlap_df_names.append(file_name[:-4])"
   ]
  },
  {
   "cell_type": "code",
   "execution_count": 10,
   "id": "659c1647",
   "metadata": {},
   "outputs": [
    {
     "name": "stdout",
     "output_type": "stream",
     "text": [
      "Currently analyzing: A_RR_GBM809\n",
      "Currently analyzing: A_R_GBM607\n",
      "Currently analyzing: B_P_GBM593\n",
      "Currently analyzing: B_R_GBM898\n",
      "Currently analyzing: C_P_GBM577\n",
      "Currently analyzing: C_R_GBM625\n",
      "Currently analyzing: E_RR_GBM937\n",
      "Currently analyzing: E_R_GBM781\n",
      "Currently analyzing: F_P_GBM620\n",
      "Currently analyzing: F_R_GBM691\n",
      "Currently analyzing: G_P_GBM454\n",
      "Currently analyzing: G_R_GBM833\n",
      "Currently analyzing: H_P_GBM460\n",
      "Currently analyzing: H_R_GBM492\n",
      "Currently analyzing: I_P_GBM440\n",
      "Currently analyzing: I_R_GBM532\n",
      "Currently analyzing: J_P_GBM401\n",
      "Currently analyzing: J_RR_GBM551\n",
      "Currently analyzing: J_R_GBM498\n",
      "Currently analyzing: K_P_GBM529\n",
      "Currently analyzing: K_R_GBM832\n",
      "Currently analyzing: L_P_GBM618\n",
      "Currently analyzing: L_R_SMTB152\n",
      "Currently analyzing: M_P_GBM672\n",
      "Currently analyzing: M_R_GBM828\n",
      "Currently analyzing: N_P_BT2013110\n",
      "Currently analyzing: N_R_GBM745\n",
      "Currently analyzing: O_P_GBM703\n",
      "Currently analyzing: O_R_SMTB781\n",
      "Currently analyzing: P_P_SMTB123\n",
      "Currently analyzing: P_R_SMTB265\n",
      "Currently analyzing: Q_P_SMTB665\n",
      "Currently analyzing: Q_R_GBM1070\n",
      "Currently analyzing: X_R_GBM945\n",
      "Currently analyzing: X_R_SMTB135\n",
      "Currently analyzing: X_R_SMTB241\n",
      "Currently analyzing: X_R_SMTB302\n",
      "Currently analyzing: X_R_SMTB814\n"
     ]
    }
   ],
   "source": [
    "large_del_chromband_list_names = []\n",
    "\n",
    "for large_del_df_name in somatic_large_DEL_wo_highoverlap_df_names:\n",
    "    \n",
    "    print('Currently analyzing: ' + large_del_df_name[:-44])\n",
    "    temp_df = globals()[large_del_df_name]\n",
    "    temp_output_df = pd.DataFrame()\n",
    "    \n",
    "    for index, row in temp_df.iterrows():\n",
    "        \n",
    "        temp_overlap = chromband_overlap_func(row['CHROM'], row['POS'], row['END'], index, \\\n",
    "                                              'DEL', large_del_df_name[:-44], chromband)\n",
    "        temp_output_df = temp_output_df.append(temp_overlap)\n",
    "    \n",
    "    temp_chromband_list_name = large_del_df_name[:-44] + '_large_del_chromband_list'\n",
    "    large_del_chromband_list_names.append(temp_chromband_list_name)\n",
    "    \n",
    "    globals()[temp_chromband_list_name] = temp_output_df"
   ]
  },
  {
   "cell_type": "code",
   "execution_count": 11,
   "id": "64c08e3c",
   "metadata": {},
   "outputs": [],
   "source": [
    "large_del_chromband_list_path = '/Users/ryanyutian/Desktop/new_panel_TRI_Brain_gene_list/chromband/large_svs/DEL/'\n",
    "\n",
    "for df_name in large_del_chromband_list_names:\n",
    "    \n",
    "    temp_df = globals()[df_name]\n",
    "    temp_df.to_csv((large_del_chromband_list_path + df_name + '.csv'), index=False, sep=',')"
   ]
  },
  {
   "cell_type": "markdown",
   "id": "bf8f13f0",
   "metadata": {},
   "source": [
    "# Large dups"
   ]
  },
  {
   "cell_type": "code",
   "execution_count": 11,
   "id": "2194e02b",
   "metadata": {},
   "outputs": [],
   "source": [
    "## DUPs\n",
    "somatic_large_DUP_path = '/Users/ryanyutian/Desktop/new_panel_TRI_Brain_glioma_sv_processed/somatic_panel_final/large_svs/DUP'\n",
    "\n",
    "somatic_large_DUP_wo_highoverlap_df_names = []\n",
    "\n",
    "os.chdir(somatic_large_DUP_path)\n",
    "temp_files = sorted([i for i in os.listdir(somatic_large_DUP_path) if 'DS' not in i])\n",
    "\n",
    "for file_name in temp_files:\n",
    "    \n",
    "    globals()[file_name[:-4]] = pd.read_csv(file_name)\n",
    "    somatic_large_DUP_wo_highoverlap_df_names.append(file_name[:-4])"
   ]
  },
  {
   "cell_type": "code",
   "execution_count": 12,
   "id": "9db7e378",
   "metadata": {},
   "outputs": [
    {
     "name": "stdout",
     "output_type": "stream",
     "text": [
      "Currently analyzing: A_RR_GBM809\n",
      "Currently analyzing: A_R_GBM607\n",
      "Currently analyzing: B_P_GBM593\n",
      "Currently analyzing: B_R_GBM898\n",
      "Currently analyzing: C_P_GBM577\n",
      "Currently analyzing: C_R_GBM625\n",
      "Currently analyzing: E_RR_GBM937\n",
      "Currently analyzing: E_R_GBM781\n",
      "Currently analyzing: F_P_GBM620\n",
      "Currently analyzing: F_R_GBM691\n",
      "Currently analyzing: G_P_GBM454\n",
      "Currently analyzing: G_R_GBM833\n",
      "Currently analyzing: H_P_GBM460\n",
      "Currently analyzing: H_R_GBM492\n",
      "Currently analyzing: I_P_GBM440\n",
      "Currently analyzing: I_R_GBM532\n",
      "Currently analyzing: J_P_GBM401\n",
      "Currently analyzing: J_RR_GBM551\n",
      "Currently analyzing: J_R_GBM498\n",
      "Currently analyzing: K_P_GBM529\n",
      "Currently analyzing: K_R_GBM832\n",
      "Currently analyzing: L_P_GBM618\n",
      "Currently analyzing: L_R_SMTB152\n",
      "Currently analyzing: M_P_GBM672\n",
      "Currently analyzing: M_R_GBM828\n",
      "Currently analyzing: N_P_BT2013110\n",
      "Currently analyzing: N_R_GBM745\n",
      "Currently analyzing: O_P_GBM703\n",
      "Currently analyzing: O_R_SMTB781\n",
      "Currently analyzing: P_P_SMTB123\n",
      "Currently analyzing: P_R_SMTB265\n",
      "Currently analyzing: Q_P_SMTB665\n",
      "Currently analyzing: Q_R_GBM1070\n",
      "Currently analyzing: X_R_GBM945\n",
      "Currently analyzing: X_R_SMTB135\n",
      "Currently analyzing: X_R_SMTB241\n",
      "Currently analyzing: X_R_SMTB302\n",
      "Currently analyzing: X_R_SMTB814\n"
     ]
    }
   ],
   "source": [
    "large_dup_chromband_list_names = []\n",
    "\n",
    "for large_dup_df_name in somatic_large_DUP_wo_highoverlap_df_names:\n",
    "    \n",
    "    print('Currently analyzing: ' + large_dup_df_name[:-44])\n",
    "    temp_df = globals()[large_dup_df_name]\n",
    "    temp_output_df = pd.DataFrame()\n",
    "    \n",
    "    for index, row in temp_df.iterrows():\n",
    "        \n",
    "        temp_overlap = chromband_overlap_func(row['CHROM'], row['POS'], row['END'], index, \\\n",
    "                                              'DUP', large_dup_df_name[:-44], chromband)\n",
    "        temp_output_df = temp_output_df.append(temp_overlap)\n",
    "    \n",
    "    temp_chromband_list_name = large_dup_df_name[:-44] + '_large_dup_chromband_list'\n",
    "    large_dup_chromband_list_names.append(temp_chromband_list_name)\n",
    "    \n",
    "    globals()[temp_chromband_list_name] = temp_output_df"
   ]
  },
  {
   "cell_type": "code",
   "execution_count": 14,
   "id": "704f47a7",
   "metadata": {},
   "outputs": [],
   "source": [
    "large_dup_chromband_list_path = '/Users/ryanyutian/Desktop/new_panel_TRI_Brain_gene_list/chromband/large_svs/DUP/'\n",
    "\n",
    "for df_name in large_dup_chromband_list_names:\n",
    "    \n",
    "    temp_df = globals()[df_name]\n",
    "    temp_df.to_csv((large_dup_chromband_list_path + df_name + '.csv'), index=False, sep=',')"
   ]
  },
  {
   "cell_type": "markdown",
   "id": "589bb70d",
   "metadata": {},
   "source": [
    "# Large invs"
   ]
  },
  {
   "cell_type": "code",
   "execution_count": 13,
   "id": "58a02efd",
   "metadata": {},
   "outputs": [],
   "source": [
    "## INVs\n",
    "somatic_large_INV_path = '/Users/ryanyutian/Desktop/new_panel_TRI_Brain_glioma_sv_processed/somatic_panel_final/large_svs/INV'\n",
    "\n",
    "somatic_large_INV_wo_highoverlap_df_names = []\n",
    "\n",
    "os.chdir(somatic_large_INV_path)\n",
    "temp_files = sorted([i for i in os.listdir(somatic_large_INV_path) if 'DS' not in i])\n",
    "\n",
    "for file_name in temp_files:\n",
    "    \n",
    "    globals()[file_name[:-4]] = pd.read_csv(file_name)\n",
    "    somatic_large_INV_wo_highoverlap_df_names.append(file_name[:-4])"
   ]
  },
  {
   "cell_type": "code",
   "execution_count": 14,
   "id": "9d8476bf",
   "metadata": {},
   "outputs": [
    {
     "name": "stdout",
     "output_type": "stream",
     "text": [
      "Currently analyzing: A_RR_GBM809\n",
      "Currently analyzing: A_R_GBM607\n",
      "Currently analyzing: B_P_GBM593\n",
      "Currently analyzing: B_R_GBM898\n",
      "Currently analyzing: C_P_GBM577\n",
      "Currently analyzing: C_R_GBM625\n",
      "Currently analyzing: E_RR_GBM937\n",
      "Currently analyzing: E_R_GBM781\n",
      "Currently analyzing: F_P_GBM620\n",
      "Currently analyzing: F_R_GBM691\n",
      "Currently analyzing: G_P_GBM454\n",
      "Currently analyzing: G_R_GBM833\n",
      "Currently analyzing: H_P_GBM460\n",
      "Currently analyzing: H_R_GBM492\n",
      "Currently analyzing: I_P_GBM440\n",
      "Currently analyzing: I_R_GBM532\n",
      "Currently analyzing: J_P_GBM401\n",
      "Currently analyzing: J_RR_GBM551\n",
      "Currently analyzing: J_R_GBM498\n",
      "Currently analyzing: K_P_GBM529\n",
      "Currently analyzing: K_R_GBM832\n",
      "Currently analyzing: L_P_GBM618\n",
      "Currently analyzing: L_R_SMTB152\n",
      "Currently analyzing: M_P_GBM672\n",
      "Currently analyzing: M_R_GBM828\n",
      "Currently analyzing: N_P_BT2013110\n",
      "Currently analyzing: N_R_GBM745\n",
      "Currently analyzing: O_P_GBM703\n",
      "Currently analyzing: O_R_SMTB781\n",
      "Currently analyzing: P_P_SMTB123\n",
      "Currently analyzing: P_R_SMTB265\n",
      "Currently analyzing: Q_P_SMTB665\n",
      "Currently analyzing: Q_R_GBM1070\n",
      "Currently analyzing: X_R_GBM945\n",
      "Currently analyzing: X_R_SMTB135\n",
      "Currently analyzing: X_R_SMTB241\n",
      "Currently analyzing: X_R_SMTB302\n",
      "Currently analyzing: X_R_SMTB814\n"
     ]
    }
   ],
   "source": [
    "large_inv_chromband_list_names = []\n",
    "\n",
    "for large_inv_df_name in somatic_large_INV_wo_highoverlap_df_names:\n",
    "    \n",
    "    print('Currently analyzing: ' + large_inv_df_name[:-44])\n",
    "    temp_df = globals()[large_inv_df_name]\n",
    "    temp_output_df = pd.DataFrame()\n",
    "    \n",
    "    for index, row in temp_df.iterrows():\n",
    "        \n",
    "        temp_overlap = chromband_overlap_func(row['CHROM'], row['POS'], row['END'], index, \\\n",
    "                                              'INV', large_inv_df_name[:-44], chromband)\n",
    "        temp_output_df = temp_output_df.append(temp_overlap)\n",
    "    \n",
    "    temp_chromband_list_name = large_inv_df_name[:-44] + '_large_inv_chromband_list'\n",
    "    large_inv_chromband_list_names.append(temp_chromband_list_name)\n",
    "    \n",
    "    globals()[temp_chromband_list_name] = temp_output_df"
   ]
  },
  {
   "cell_type": "code",
   "execution_count": 17,
   "id": "52a56c9f",
   "metadata": {},
   "outputs": [],
   "source": [
    "large_inv_chromband_list_path = '/Users/ryanyutian/Desktop/new_panel_TRI_Brain_gene_list/chromband/large_svs/INV/'\n",
    "\n",
    "for df_name in large_inv_chromband_list_names:\n",
    "    \n",
    "    temp_df = globals()[df_name]\n",
    "    temp_df.to_csv((large_inv_chromband_list_path + df_name + '.csv'), index=False, sep=',')"
   ]
  },
  {
   "cell_type": "code",
   "execution_count": 15,
   "id": "7fda7e2c",
   "metadata": {},
   "outputs": [
    {
     "data": {
      "text/plain": [
       "'A_RR_GBM809'"
      ]
     },
     "execution_count": 15,
     "metadata": {},
     "output_type": "execute_result"
    }
   ],
   "source": [
    "large_del_chromband_list_names[0][:-25]"
   ]
  },
  {
   "cell_type": "code",
   "execution_count": 16,
   "id": "d687c658",
   "metadata": {},
   "outputs": [
    {
     "data": {
      "text/plain": [
       "False"
      ]
     },
     "execution_count": 16,
     "metadata": {},
     "output_type": "execute_result"
    }
   ],
   "source": [
    "'q13.42' not in A_R_GBM607_large_del_chromband_list['name'].tolist()"
   ]
  },
  {
   "cell_type": "code",
   "execution_count": 17,
   "id": "33203dd1",
   "metadata": {},
   "outputs": [
    {
     "data": {
      "text/html": [
       "<div>\n",
       "<style scoped>\n",
       "    .dataframe tbody tr th:only-of-type {\n",
       "        vertical-align: middle;\n",
       "    }\n",
       "\n",
       "    .dataframe tbody tr th {\n",
       "        vertical-align: top;\n",
       "    }\n",
       "\n",
       "    .dataframe thead th {\n",
       "        text-align: right;\n",
       "    }\n",
       "</style>\n",
       "<table border=\"1\" class=\"dataframe\">\n",
       "  <thead>\n",
       "    <tr style=\"text-align: right;\">\n",
       "      <th></th>\n",
       "      <th>chrom</th>\n",
       "      <th>chromStart</th>\n",
       "      <th>chromEnd</th>\n",
       "      <th>name</th>\n",
       "      <th>gieStain</th>\n",
       "      <th>percent_overlap</th>\n",
       "      <th>input_start</th>\n",
       "      <th>input_end</th>\n",
       "      <th>input_ind</th>\n",
       "      <th>input_sv_type</th>\n",
       "      <th>input_sample_id</th>\n",
       "    </tr>\n",
       "  </thead>\n",
       "  <tbody>\n",
       "    <tr>\n",
       "      <th>811</th>\n",
       "      <td>chr19</td>\n",
       "      <td>53100000</td>\n",
       "      <td>55800000</td>\n",
       "      <td>q13.42</td>\n",
       "      <td>gneg</td>\n",
       "      <td>1.72</td>\n",
       "      <td>54786240</td>\n",
       "      <td>54832710</td>\n",
       "      <td>0</td>\n",
       "      <td>DEL</td>\n",
       "      <td>A_R_GBM607</td>\n",
       "    </tr>\n",
       "    <tr>\n",
       "      <th>343</th>\n",
       "      <td>chr7</td>\n",
       "      <td>53900000</td>\n",
       "      <td>58100000</td>\n",
       "      <td>p11.2</td>\n",
       "      <td>gneg</td>\n",
       "      <td>0.72</td>\n",
       "      <td>58037105</td>\n",
       "      <td>58067175</td>\n",
       "      <td>1</td>\n",
       "      <td>DEL</td>\n",
       "      <td>A_R_GBM607</td>\n",
       "    </tr>\n",
       "  </tbody>\n",
       "</table>\n",
       "</div>"
      ],
      "text/plain": [
       "     chrom  chromStart  chromEnd    name gieStain  percent_overlap  \\\n",
       "811  chr19    53100000  55800000  q13.42     gneg             1.72   \n",
       "343   chr7    53900000  58100000   p11.2     gneg             0.72   \n",
       "\n",
       "     input_start  input_end  input_ind input_sv_type input_sample_id  \n",
       "811     54786240   54832710          0           DEL      A_R_GBM607  \n",
       "343     58037105   58067175          1           DEL      A_R_GBM607  "
      ]
     },
     "execution_count": 17,
     "metadata": {},
     "output_type": "execute_result"
    }
   ],
   "source": [
    "A_R_GBM607_large_del_chromband_list"
   ]
  },
  {
   "cell_type": "markdown",
   "id": "c73b3b43",
   "metadata": {},
   "source": [
    "# Overlap"
   ]
  },
  {
   "cell_type": "code",
   "execution_count": 18,
   "id": "82a38c54",
   "metadata": {},
   "outputs": [
    {
     "name": "stdout",
     "output_type": "stream",
     "text": [
      "Currently analyzing sample: A_RR_GBM809\n",
      "Currently analyzing sample: A_R_GBM607\n",
      "Currently analyzing sample: B_P_GBM593\n",
      "Currently analyzing sample: B_R_GBM898\n",
      "Currently analyzing sample: C_P_GBM577\n",
      "Currently analyzing sample: C_R_GBM625\n",
      "Currently analyzing sample: E_RR_GBM937\n",
      "Currently analyzing sample: E_R_GBM781\n",
      "Currently analyzing sample: F_P_GBM620\n",
      "Currently analyzing sample: F_R_GBM691\n",
      "Currently analyzing sample: G_P_GBM454\n",
      "Currently analyzing sample: G_R_GBM833\n",
      "Currently analyzing sample: H_P_GBM460\n",
      "Currently analyzing sample: H_R_GBM492\n",
      "Currently analyzing sample: I_P_GBM440\n",
      "Currently analyzing sample: I_R_GBM532\n",
      "Currently analyzing sample: J_P_GBM401\n",
      "Currently analyzing sample: J_RR_GBM551\n",
      "Currently analyzing sample: J_R_GBM498\n",
      "Currently analyzing sample: K_P_GBM529\n",
      "Currently analyzing sample: K_R_GBM832\n",
      "Currently analyzing sample: L_P_GBM618\n",
      "Currently analyzing sample: L_R_SMTB152\n",
      "Currently analyzing sample: M_P_GBM672\n",
      "Currently analyzing sample: M_R_GBM828\n",
      "Currently analyzing sample: N_P_BT2013110\n",
      "Currently analyzing sample: N_R_GBM745\n",
      "Currently analyzing sample: O_P_GBM703\n",
      "Currently analyzing sample: O_R_SMTB781\n",
      "Currently analyzing sample: P_P_SMTB123\n",
      "Currently analyzing sample: P_R_SMTB265\n",
      "Currently analyzing sample: Q_P_SMTB665\n",
      "Currently analyzing sample: Q_R_GBM1070\n",
      "Currently analyzing sample: X_R_GBM945\n",
      "Currently analyzing sample: X_R_SMTB135\n",
      "Currently analyzing sample: X_R_SMTB241\n",
      "Currently analyzing sample: X_R_SMTB302\n",
      "Currently analyzing sample: X_R_SMTB814\n"
     ]
    }
   ],
   "source": [
    "output_dict_large_del = {'chrom':[], 'chromStart':[], 'chromEnd':[], \\\n",
    "                         'name':[], 'gieStain':[], 'input_sample_ids':[], 'count':[]}\n",
    "\n",
    "for df_name in large_del_chromband_list_names:\n",
    "    \n",
    "    print('Currently analyzing sample: ' + str(df_name[:-25]))\n",
    "\n",
    "    temp_df = globals()[df_name]\n",
    "    \n",
    "    # For each sample, each chromband can only be counted once\n",
    "    # (i.e., multiple SVs on the same chromband will only be counted once)\n",
    "    \n",
    "    counted_chrombands = []\n",
    "    \n",
    "    for ind, row in temp_df.iterrows():\n",
    "        \n",
    "        if row['name'] not in output_dict_large_del['name']:\n",
    "            \n",
    "            output_dict_large_del['chrom'].append(row['chrom'])\n",
    "            output_dict_large_del['chromStart'].append(row['chromStart'])\n",
    "            output_dict_large_del['chromEnd'].append(row['chromEnd'])\n",
    "            output_dict_large_del['name'].append(row['name'])\n",
    "            output_dict_large_del['gieStain'].append(row['gieStain'])\n",
    "            \n",
    "            output_dict_large_del['input_sample_ids'].append([df_name[:-25]])\n",
    "            output_dict_large_del['count'].append(1)\n",
    "\n",
    "            # Append into temp arrays for this sample\n",
    "            counted_chrombands.append(row['name'])\n",
    "        \n",
    "        elif row['name'] not in counted_chrombands:\n",
    "                \n",
    "            temp_ind = output_dict_large_del['name'].index(row['name'])\n",
    "\n",
    "            output_dict_large_del['input_sample_ids'][temp_ind].append(df_name[:-25])\n",
    "\n",
    "            output_dict_large_del['count'][temp_ind] += 1\n",
    "            counted_chrombands.append(row['name'])\n",
    "                "
   ]
  },
  {
   "cell_type": "code",
   "execution_count": 19,
   "id": "9dd19284",
   "metadata": {},
   "outputs": [
    {
     "name": "stdout",
     "output_type": "stream",
     "text": [
      "Currently analyzing sample: A_RR_GBM809\n",
      "Currently analyzing sample: A_R_GBM607\n",
      "Currently analyzing sample: B_P_GBM593\n",
      "Currently analyzing sample: B_R_GBM898\n",
      "Currently analyzing sample: C_P_GBM577\n",
      "Currently analyzing sample: C_R_GBM625\n",
      "Currently analyzing sample: E_RR_GBM937\n",
      "Currently analyzing sample: E_R_GBM781\n",
      "Currently analyzing sample: F_P_GBM620\n",
      "Currently analyzing sample: F_R_GBM691\n",
      "Currently analyzing sample: G_P_GBM454\n",
      "Currently analyzing sample: G_R_GBM833\n",
      "Currently analyzing sample: H_P_GBM460\n",
      "Currently analyzing sample: H_R_GBM492\n",
      "Currently analyzing sample: I_P_GBM440\n",
      "Currently analyzing sample: I_R_GBM532\n",
      "Currently analyzing sample: J_P_GBM401\n",
      "Currently analyzing sample: J_RR_GBM551\n",
      "Currently analyzing sample: J_R_GBM498\n",
      "Currently analyzing sample: K_P_GBM529\n",
      "Currently analyzing sample: K_R_GBM832\n",
      "Currently analyzing sample: L_P_GBM618\n",
      "Currently analyzing sample: L_R_SMTB152\n",
      "Currently analyzing sample: M_P_GBM672\n",
      "Currently analyzing sample: M_R_GBM828\n",
      "Currently analyzing sample: N_P_BT2013110\n",
      "Currently analyzing sample: N_R_GBM745\n",
      "Currently analyzing sample: O_P_GBM703\n",
      "Currently analyzing sample: O_R_SMTB781\n",
      "Currently analyzing sample: P_P_SMTB123\n",
      "Currently analyzing sample: P_R_SMTB265\n",
      "Currently analyzing sample: Q_P_SMTB665\n",
      "Currently analyzing sample: Q_R_GBM1070\n",
      "Currently analyzing sample: X_R_GBM945\n",
      "Currently analyzing sample: X_R_SMTB135\n",
      "Currently analyzing sample: X_R_SMTB241\n",
      "Currently analyzing sample: X_R_SMTB302\n",
      "Currently analyzing sample: X_R_SMTB814\n"
     ]
    }
   ],
   "source": [
    "output_dict_large_dup = {'chrom':[], 'chromStart':[], 'chromEnd':[], \\\n",
    "                         'name':[], 'gieStain':[], 'input_sample_ids':[], 'count':[]}\n",
    "\n",
    "for df_name in large_dup_chromband_list_names:\n",
    "    \n",
    "    print('Currently analyzing sample: ' + str(df_name[:-25]))\n",
    "\n",
    "    temp_df = globals()[df_name]\n",
    "    \n",
    "    # For each sample, each chromband can only be counted once\n",
    "    # (i.e., multiple SVs on the same chromband will only be counted once)\n",
    "    \n",
    "    counted_chrombands = []\n",
    "    \n",
    "    for ind, row in temp_df.iterrows():\n",
    "        \n",
    "        if row['name'] not in output_dict_large_dup['name']:\n",
    "            \n",
    "            output_dict_large_dup['chrom'].append(row['chrom'])\n",
    "            output_dict_large_dup['chromStart'].append(row['chromStart'])\n",
    "            output_dict_large_dup['chromEnd'].append(row['chromEnd'])\n",
    "            output_dict_large_dup['name'].append(row['name'])\n",
    "            output_dict_large_dup['gieStain'].append(row['gieStain'])\n",
    "            \n",
    "            output_dict_large_dup['input_sample_ids'].append([df_name[:-25]])\n",
    "            output_dict_large_dup['count'].append(1)\n",
    "\n",
    "            # Append into temp arrays for this sample\n",
    "            counted_chrombands.append(row['name'])\n",
    "        \n",
    "        elif row['name'] not in counted_chrombands:\n",
    "                \n",
    "            temp_ind = output_dict_large_dup['name'].index(row['name'])\n",
    "\n",
    "            output_dict_large_dup['input_sample_ids'][temp_ind].append(df_name[:-25])\n",
    "\n",
    "            output_dict_large_dup['count'][temp_ind] += 1\n",
    "            counted_chrombands.append(row['name'])\n",
    "                "
   ]
  },
  {
   "cell_type": "code",
   "execution_count": 20,
   "id": "d2e95b03",
   "metadata": {},
   "outputs": [
    {
     "name": "stdout",
     "output_type": "stream",
     "text": [
      "Currently analyzing sample: A_RR_GBM809\n",
      "Currently analyzing sample: A_R_GBM607\n",
      "Currently analyzing sample: B_P_GBM593\n",
      "Currently analyzing sample: B_R_GBM898\n",
      "Currently analyzing sample: C_P_GBM577\n",
      "Currently analyzing sample: C_R_GBM625\n",
      "Currently analyzing sample: E_RR_GBM937\n",
      "Currently analyzing sample: E_R_GBM781\n",
      "Currently analyzing sample: F_P_GBM620\n",
      "Currently analyzing sample: F_R_GBM691\n",
      "Currently analyzing sample: G_P_GBM454\n",
      "Currently analyzing sample: G_R_GBM833\n",
      "Currently analyzing sample: H_P_GBM460\n",
      "Currently analyzing sample: H_R_GBM492\n",
      "Currently analyzing sample: I_P_GBM440\n",
      "Currently analyzing sample: I_R_GBM532\n",
      "Currently analyzing sample: J_P_GBM401\n",
      "Currently analyzing sample: J_RR_GBM551\n",
      "Currently analyzing sample: J_R_GBM498\n",
      "Currently analyzing sample: K_P_GBM529\n",
      "Currently analyzing sample: K_R_GBM832\n",
      "Currently analyzing sample: L_P_GBM618\n",
      "Currently analyzing sample: L_R_SMTB152\n",
      "Currently analyzing sample: M_P_GBM672\n",
      "Currently analyzing sample: M_R_GBM828\n",
      "Currently analyzing sample: N_P_BT2013110\n",
      "Currently analyzing sample: N_R_GBM745\n",
      "Currently analyzing sample: O_P_GBM703\n",
      "Currently analyzing sample: O_R_SMTB781\n",
      "Currently analyzing sample: P_P_SMTB123\n",
      "Currently analyzing sample: P_R_SMTB265\n",
      "Currently analyzing sample: Q_P_SMTB665\n",
      "Currently analyzing sample: Q_R_GBM1070\n",
      "Currently analyzing sample: X_R_GBM945\n",
      "Currently analyzing sample: X_R_SMTB135\n",
      "Currently analyzing sample: X_R_SMTB241\n",
      "Currently analyzing sample: X_R_SMTB302\n",
      "Currently analyzing sample: X_R_SMTB814\n"
     ]
    }
   ],
   "source": [
    "output_dict_large_inv = {'chrom':[], 'chromStart':[], 'chromEnd':[], \\\n",
    "                         'name':[], 'gieStain':[], 'input_sample_ids':[], 'count':[]}\n",
    "\n",
    "for df_name in large_inv_chromband_list_names:\n",
    "    \n",
    "    print('Currently analyzing sample: ' + str(df_name[:-25]))\n",
    "\n",
    "    temp_df = globals()[df_name]\n",
    "    \n",
    "    # For each sample, each chromband can only be counted once\n",
    "    # (i.e., multiple SVs on the same chromband will only be counted once)\n",
    "    \n",
    "    counted_chrombands = []\n",
    "    \n",
    "    for ind, row in temp_df.iterrows():\n",
    "        \n",
    "        if row['name'] not in output_dict_large_inv['name']:\n",
    "            \n",
    "            output_dict_large_inv['chrom'].append(row['chrom'])\n",
    "            output_dict_large_inv['chromStart'].append(row['chromStart'])\n",
    "            output_dict_large_inv['chromEnd'].append(row['chromEnd'])\n",
    "            output_dict_large_inv['name'].append(row['name'])\n",
    "            output_dict_large_inv['gieStain'].append(row['gieStain'])\n",
    "            \n",
    "            output_dict_large_inv['input_sample_ids'].append([df_name[:-25]])\n",
    "            output_dict_large_inv['count'].append(1)\n",
    "\n",
    "            # Append into temp arrays for this sample\n",
    "            counted_chrombands.append(row['name'])\n",
    "        \n",
    "        elif row['name'] not in counted_chrombands:\n",
    "                \n",
    "            temp_ind = output_dict_large_inv['name'].index(row['name'])\n",
    "\n",
    "            output_dict_large_inv['input_sample_ids'][temp_ind].append(df_name[:-25])\n",
    "\n",
    "            output_dict_large_inv['count'][temp_ind] += 1\n",
    "            counted_chrombands.append(row['name'])\n",
    "                "
   ]
  },
  {
   "cell_type": "code",
   "execution_count": 21,
   "id": "29dab6a0",
   "metadata": {},
   "outputs": [],
   "source": [
    "output_df_large_del = pd.DataFrame.from_dict(output_dict_large_del)\n",
    "\n",
    "output_df_large_dup = pd.DataFrame.from_dict(output_dict_large_dup)\n",
    "\n",
    "output_df_large_inv = pd.DataFrame.from_dict(output_dict_large_inv)"
   ]
  },
  {
   "cell_type": "code",
   "execution_count": 26,
   "id": "e40d19a3",
   "metadata": {},
   "outputs": [],
   "source": [
    "output_df_large_del_sorted = output_df_large_del.sort_values('count', ascending=False)\n",
    "output_df_large_del_sorted = output_df_large_del_sorted.reset_index(drop=True)\n",
    "\n",
    "large_del_chromband_path = '/Users/ryanyutian/Desktop/new_panel_TRI_Brain_SV_hotspot/chrombands/'\n",
    "output_df_large_del_sorted.to_csv((large_del_chromband_path + 'large_del_chromband_hotspot.csv'), index=False, sep=',')"
   ]
  },
  {
   "cell_type": "code",
   "execution_count": 27,
   "id": "74e86d2a",
   "metadata": {},
   "outputs": [],
   "source": [
    "output_df_large_dup_sorted = output_df_large_dup.sort_values('count', ascending=False)\n",
    "output_df_large_dup_sorted = output_df_large_dup_sorted.reset_index(drop=True)\n",
    "\n",
    "large_dup_chromband_path = '/Users/ryanyutian/Desktop/new_panel_TRI_Brain_SV_hotspot/chrombands/'\n",
    "output_df_large_dup_sorted.to_csv((large_dup_chromband_path + 'large_dup_chromband_hotspot.csv'), index=False, sep=',')"
   ]
  },
  {
   "cell_type": "code",
   "execution_count": 28,
   "id": "a402cfb3",
   "metadata": {},
   "outputs": [],
   "source": [
    "output_df_large_inv_sorted = output_df_large_inv.sort_values('count', ascending=False)\n",
    "output_df_large_inv_sorted = output_df_large_inv_sorted.reset_index(drop=True)\n",
    "\n",
    "large_inv_chromband_path = '/Users/ryanyutian/Desktop/new_panel_TRI_Brain_SV_hotspot/chrombands/'\n",
    "output_df_large_inv_sorted.to_csv((large_inv_chromband_path + 'large_inv_chromband_hotspot.csv'), index=False, sep=',')"
   ]
  },
  {
   "cell_type": "markdown",
   "id": "559b3d38",
   "metadata": {},
   "source": [
    "# Visualization"
   ]
  },
  {
   "cell_type": "code",
   "execution_count": 29,
   "id": "c737e15e",
   "metadata": {},
   "outputs": [],
   "source": [
    "def count_elements(numbers):\n",
    "    \n",
    "    count_dict = {}\n",
    "    \n",
    "    for num in numbers:\n",
    "    \n",
    "        if num in count_dict:\n",
    "            count_dict[num] += 1\n",
    "        \n",
    "        else:\n",
    "            count_dict[num] = 1\n",
    "\n",
    "    return count_dict"
   ]
  },
  {
   "cell_type": "code",
   "execution_count": 30,
   "id": "465af7fc",
   "metadata": {},
   "outputs": [],
   "source": [
    "### Large DELs\n",
    "\n",
    "output_df_large_del_sorted_bigger_than_1 = \\\n",
    "output_df_large_del_sorted[output_df_large_del_sorted['count'] > 1]"
   ]
  },
  {
   "cell_type": "code",
   "execution_count": 41,
   "id": "1b06b769",
   "metadata": {},
   "outputs": [
    {
     "data": {
      "text/plain": [
       "[['A_RR_GBM809',\n",
       "  'B_P_GBM593',\n",
       "  'C_P_GBM577',\n",
       "  'E_R_GBM781',\n",
       "  'F_P_GBM620',\n",
       "  'F_R_GBM691',\n",
       "  'H_P_GBM460',\n",
       "  'H_R_GBM492',\n",
       "  'I_P_GBM440',\n",
       "  'J_P_GBM401',\n",
       "  'J_RR_GBM551',\n",
       "  'J_R_GBM498',\n",
       "  'K_P_GBM529',\n",
       "  'K_R_GBM832',\n",
       "  'L_R_SMTB152',\n",
       "  'N_P_BT2013110',\n",
       "  'O_P_GBM703',\n",
       "  'O_R_SMTB781',\n",
       "  'P_P_SMTB123',\n",
       "  'X_R_GBM945',\n",
       "  'X_R_SMTB241',\n",
       "  'X_R_SMTB814']]"
      ]
     },
     "execution_count": 41,
     "metadata": {},
     "output_type": "execute_result"
    }
   ],
   "source": [
    "list(output_df_large_del_sorted_bigger_than_1[output_df_large_del_sorted_bigger_than_1['name'] == 'q21.1']['input_sample_ids'])"
   ]
  },
  {
   "cell_type": "code",
   "execution_count": 47,
   "id": "6ecee0f0",
   "metadata": {},
   "outputs": [
    {
     "data": {
      "text/html": [
       "<div>\n",
       "<style scoped>\n",
       "    .dataframe tbody tr th:only-of-type {\n",
       "        vertical-align: middle;\n",
       "    }\n",
       "\n",
       "    .dataframe tbody tr th {\n",
       "        vertical-align: top;\n",
       "    }\n",
       "\n",
       "    .dataframe thead th {\n",
       "        text-align: right;\n",
       "    }\n",
       "</style>\n",
       "<table border=\"1\" class=\"dataframe\">\n",
       "  <thead>\n",
       "    <tr style=\"text-align: right;\">\n",
       "      <th></th>\n",
       "      <th>chrom</th>\n",
       "      <th>chromStart</th>\n",
       "      <th>chromEnd</th>\n",
       "      <th>name</th>\n",
       "      <th>gieStain</th>\n",
       "      <th>percent_overlap</th>\n",
       "      <th>input_start</th>\n",
       "      <th>input_end</th>\n",
       "      <th>input_ind</th>\n",
       "      <th>input_sv_type</th>\n",
       "      <th>input_sample_id</th>\n",
       "    </tr>\n",
       "  </thead>\n",
       "  <tbody>\n",
       "    <tr>\n",
       "      <th>36</th>\n",
       "      <td>chr1</td>\n",
       "      <td>143200000</td>\n",
       "      <td>147500000</td>\n",
       "      <td>q21.1</td>\n",
       "      <td>gneg</td>\n",
       "      <td>2.56</td>\n",
       "      <td>145290000</td>\n",
       "      <td>145400000</td>\n",
       "      <td>0</td>\n",
       "      <td>DEL</td>\n",
       "      <td>B_P_GBM593</td>\n",
       "    </tr>\n",
       "    <tr>\n",
       "      <th>587</th>\n",
       "      <td>chr12</td>\n",
       "      <td>10000000</td>\n",
       "      <td>12600000</td>\n",
       "      <td>p13.2</td>\n",
       "      <td>gpos75</td>\n",
       "      <td>2.12</td>\n",
       "      <td>11015379</td>\n",
       "      <td>11070480</td>\n",
       "      <td>1</td>\n",
       "      <td>DEL</td>\n",
       "      <td>B_P_GBM593</td>\n",
       "    </tr>\n",
       "    <tr>\n",
       "      <th>641</th>\n",
       "      <td>chr13</td>\n",
       "      <td>46700000</td>\n",
       "      <td>50300000</td>\n",
       "      <td>q14.2</td>\n",
       "      <td>gpos50</td>\n",
       "      <td>44.44</td>\n",
       "      <td>48700000</td>\n",
       "      <td>50570000</td>\n",
       "      <td>2</td>\n",
       "      <td>DEL</td>\n",
       "      <td>B_P_GBM593</td>\n",
       "    </tr>\n",
       "    <tr>\n",
       "      <th>642</th>\n",
       "      <td>chr13</td>\n",
       "      <td>50300000</td>\n",
       "      <td>54700000</td>\n",
       "      <td>q14.3</td>\n",
       "      <td>gneg</td>\n",
       "      <td>6.14</td>\n",
       "      <td>48700000</td>\n",
       "      <td>50570000</td>\n",
       "      <td>2</td>\n",
       "      <td>DEL</td>\n",
       "      <td>B_P_GBM593</td>\n",
       "    </tr>\n",
       "    <tr>\n",
       "      <th>672</th>\n",
       "      <td>chr14</td>\n",
       "      <td>43000000</td>\n",
       "      <td>46700000</td>\n",
       "      <td>q21.2</td>\n",
       "      <td>gneg</td>\n",
       "      <td>1.04</td>\n",
       "      <td>46372417</td>\n",
       "      <td>46410766</td>\n",
       "      <td>3</td>\n",
       "      <td>DEL</td>\n",
       "      <td>B_P_GBM593</td>\n",
       "    </tr>\n",
       "    <tr>\n",
       "      <th>326</th>\n",
       "      <td>chr6</td>\n",
       "      <td>164100000</td>\n",
       "      <td>170805979</td>\n",
       "      <td>q27</td>\n",
       "      <td>gneg</td>\n",
       "      <td>3.43</td>\n",
       "      <td>170410000</td>\n",
       "      <td>170640000</td>\n",
       "      <td>4</td>\n",
       "      <td>DEL</td>\n",
       "      <td>B_P_GBM593</td>\n",
       "    </tr>\n",
       "    <tr>\n",
       "      <th>328</th>\n",
       "      <td>chr7</td>\n",
       "      <td>2800000</td>\n",
       "      <td>4500000</td>\n",
       "      <td>p22.2</td>\n",
       "      <td>gpos25</td>\n",
       "      <td>3.34</td>\n",
       "      <td>3338734</td>\n",
       "      <td>3395585</td>\n",
       "      <td>5</td>\n",
       "      <td>DEL</td>\n",
       "      <td>B_P_GBM593</td>\n",
       "    </tr>\n",
       "    <tr>\n",
       "      <th>366</th>\n",
       "      <td>chr7</td>\n",
       "      <td>138500000</td>\n",
       "      <td>143400000</td>\n",
       "      <td>q34</td>\n",
       "      <td>gneg</td>\n",
       "      <td>0.68</td>\n",
       "      <td>142309916</td>\n",
       "      <td>142343384</td>\n",
       "      <td>6</td>\n",
       "      <td>DEL</td>\n",
       "      <td>B_P_GBM593</td>\n",
       "    </tr>\n",
       "    <tr>\n",
       "      <th>455</th>\n",
       "      <td>chrX</td>\n",
       "      <td>0</td>\n",
       "      <td>4400000</td>\n",
       "      <td>p22.33</td>\n",
       "      <td>gneg</td>\n",
       "      <td>2.50</td>\n",
       "      <td>1310000</td>\n",
       "      <td>1420000</td>\n",
       "      <td>7</td>\n",
       "      <td>DEL</td>\n",
       "      <td>B_P_GBM593</td>\n",
       "    </tr>\n",
       "  </tbody>\n",
       "</table>\n",
       "</div>"
      ],
      "text/plain": [
       "     chrom  chromStart   chromEnd    name gieStain  percent_overlap  \\\n",
       "36    chr1   143200000  147500000   q21.1     gneg             2.56   \n",
       "587  chr12    10000000   12600000   p13.2   gpos75             2.12   \n",
       "641  chr13    46700000   50300000   q14.2   gpos50            44.44   \n",
       "642  chr13    50300000   54700000   q14.3     gneg             6.14   \n",
       "672  chr14    43000000   46700000   q21.2     gneg             1.04   \n",
       "326   chr6   164100000  170805979     q27     gneg             3.43   \n",
       "328   chr7     2800000    4500000   p22.2   gpos25             3.34   \n",
       "366   chr7   138500000  143400000     q34     gneg             0.68   \n",
       "455   chrX           0    4400000  p22.33     gneg             2.50   \n",
       "\n",
       "     input_start  input_end  input_ind input_sv_type input_sample_id  \n",
       "36     145290000  145400000          0           DEL      B_P_GBM593  \n",
       "587     11015379   11070480          1           DEL      B_P_GBM593  \n",
       "641     48700000   50570000          2           DEL      B_P_GBM593  \n",
       "642     48700000   50570000          2           DEL      B_P_GBM593  \n",
       "672     46372417   46410766          3           DEL      B_P_GBM593  \n",
       "326    170410000  170640000          4           DEL      B_P_GBM593  \n",
       "328      3338734    3395585          5           DEL      B_P_GBM593  \n",
       "366    142309916  142343384          6           DEL      B_P_GBM593  \n",
       "455      1310000    1420000          7           DEL      B_P_GBM593  "
      ]
     },
     "execution_count": 47,
     "metadata": {},
     "output_type": "execute_result"
    }
   ],
   "source": [
    "B_P_GBM593_large_del_chromband_list"
   ]
  },
  {
   "cell_type": "code",
   "execution_count": 42,
   "id": "eb12cae1",
   "metadata": {},
   "outputs": [
    {
     "data": {
      "text/html": [
       "<div>\n",
       "<style scoped>\n",
       "    .dataframe tbody tr th:only-of-type {\n",
       "        vertical-align: middle;\n",
       "    }\n",
       "\n",
       "    .dataframe tbody tr th {\n",
       "        vertical-align: top;\n",
       "    }\n",
       "\n",
       "    .dataframe thead th {\n",
       "        text-align: right;\n",
       "    }\n",
       "</style>\n",
       "<table border=\"1\" class=\"dataframe\">\n",
       "  <thead>\n",
       "    <tr style=\"text-align: right;\">\n",
       "      <th></th>\n",
       "      <th>chrom</th>\n",
       "      <th>chromStart</th>\n",
       "      <th>chromEnd</th>\n",
       "      <th>name</th>\n",
       "      <th>gieStain</th>\n",
       "      <th>input_sample_ids</th>\n",
       "      <th>count</th>\n",
       "    </tr>\n",
       "  </thead>\n",
       "  <tbody>\n",
       "    <tr>\n",
       "      <th>1</th>\n",
       "      <td>chr15</td>\n",
       "      <td>20500000</td>\n",
       "      <td>25500000</td>\n",
       "      <td>q11.2</td>\n",
       "      <td>gneg</td>\n",
       "      <td>[C_P_GBM577, H_P_GBM460, H_R_GBM492, J_RR_GBM5...</td>\n",
       "      <td>16</td>\n",
       "    </tr>\n",
       "    <tr>\n",
       "      <th>2</th>\n",
       "      <td>chr7</td>\n",
       "      <td>138500000</td>\n",
       "      <td>143400000</td>\n",
       "      <td>q34</td>\n",
       "      <td>gneg</td>\n",
       "      <td>[B_P_GBM593, C_P_GBM577, C_R_GBM625, E_RR_GBM9...</td>\n",
       "      <td>16</td>\n",
       "    </tr>\n",
       "    <tr>\n",
       "      <th>3</th>\n",
       "      <td>chr14</td>\n",
       "      <td>43000000</td>\n",
       "      <td>46700000</td>\n",
       "      <td>q21.2</td>\n",
       "      <td>gneg</td>\n",
       "      <td>[B_P_GBM593, B_R_GBM898, C_P_GBM577, H_P_GBM46...</td>\n",
       "      <td>16</td>\n",
       "    </tr>\n",
       "  </tbody>\n",
       "</table>\n",
       "</div>"
      ],
      "text/plain": [
       "   chrom  chromStart   chromEnd   name gieStain  \\\n",
       "1  chr15    20500000   25500000  q11.2     gneg   \n",
       "2   chr7   138500000  143400000    q34     gneg   \n",
       "3  chr14    43000000   46700000  q21.2     gneg   \n",
       "\n",
       "                                    input_sample_ids  count  \n",
       "1  [C_P_GBM577, H_P_GBM460, H_R_GBM492, J_RR_GBM5...     16  \n",
       "2  [B_P_GBM593, C_P_GBM577, C_R_GBM625, E_RR_GBM9...     16  \n",
       "3  [B_P_GBM593, B_R_GBM898, C_P_GBM577, H_P_GBM46...     16  "
      ]
     },
     "execution_count": 42,
     "metadata": {},
     "output_type": "execute_result"
    }
   ],
   "source": [
    "output_df_large_del_sorted_bigger_than_1[output_df_large_del_sorted_bigger_than_1['count'] == 16]"
   ]
  },
  {
   "cell_type": "code",
   "execution_count": 43,
   "id": "6e06800b",
   "metadata": {},
   "outputs": [
    {
     "data": {
      "text/plain": [
       "[['C_P_GBM577',\n",
       "  'H_P_GBM460',\n",
       "  'H_R_GBM492',\n",
       "  'J_RR_GBM551',\n",
       "  'J_R_GBM498',\n",
       "  'K_P_GBM529',\n",
       "  'K_R_GBM832',\n",
       "  'L_R_SMTB152',\n",
       "  'M_R_GBM828',\n",
       "  'N_P_BT2013110',\n",
       "  'N_R_GBM745',\n",
       "  'P_P_SMTB123',\n",
       "  'X_R_GBM945',\n",
       "  'X_R_SMTB135',\n",
       "  'X_R_SMTB241',\n",
       "  'X_R_SMTB814']]"
      ]
     },
     "execution_count": 43,
     "metadata": {},
     "output_type": "execute_result"
    }
   ],
   "source": [
    "list(output_df_large_del_sorted_bigger_than_1[output_df_large_del_sorted_bigger_than_1['name'] == 'q11.2']['input_sample_ids'])"
   ]
  },
  {
   "cell_type": "code",
   "execution_count": 31,
   "id": "c2d2f288",
   "metadata": {
    "scrolled": true
   },
   "outputs": [
    {
     "data": {
      "text/plain": [
       "{22: 1,\n",
       " 16: 3,\n",
       " 15: 4,\n",
       " 14: 1,\n",
       " 13: 5,\n",
       " 12: 5,\n",
       " 11: 8,\n",
       " 10: 6,\n",
       " 9: 12,\n",
       " 8: 5,\n",
       " 7: 14,\n",
       " 6: 7,\n",
       " 5: 19,\n",
       " 4: 20,\n",
       " 3: 30,\n",
       " 2: 32}"
      ]
     },
     "execution_count": 31,
     "metadata": {},
     "output_type": "execute_result"
    }
   ],
   "source": [
    "count_elements(list(output_df_large_del_sorted_bigger_than_1['count']))"
   ]
  },
  {
   "cell_type": "code",
   "execution_count": 32,
   "id": "7be0b1d4",
   "metadata": {},
   "outputs": [
    {
     "data": {
      "image/png": "[encoded data removed]",
      "text/plain": [
       "<Figure size 1152x792 with 1 Axes>"
      ]
     },
     "metadata": {
      "needs_background": "light"
     },
     "output_type": "display_data"
    }
   ],
   "source": [
    "repeat_counts = count_elements(list(output_df_large_del_sorted_bigger_than_1['count']))\n",
    "\n",
    "sorted_labels = sorted(repeat_counts)\n",
    "plot_list = []\n",
    "\n",
    "for label in sorted_labels:\n",
    "    \n",
    "    plot_list.append(repeat_counts[label])\n",
    "\n",
    "sorted_labels_str = [str(x) for x in sorted_labels]\n",
    "fig, ax = plt.subplots(figsize =(16, 11))\n",
    "\n",
    "_ = ax.barh(sorted_labels_str, plot_list)\n",
    "_ = ax.grid(b = True, color ='grey',\n",
    "            linestyle ='-.', linewidth = 0.5,\n",
    "            alpha = 0.2)\n",
    "\n",
    "# Add annotation to bars\n",
    "for i in ax.patches:\n",
    "    plt.text(i.get_width()+.25, i.get_y()+0.3,\n",
    "             str(round((i.get_width()), 2)),\n",
    "             fontsize = 10, fontweight ='bold',\n",
    "             color ='green')\n",
    "    \n",
    "_ = ax.set_xlabel('Chromband count', fontweight ='bold', fontsize=12)\n",
    "_ = ax.set_ylabel('# of samples', fontweight ='bold', fontsize=12)\n",
    "\n",
    "fig.savefig('/Users/ryanyutian/Desktop/visualizations/large_del_chromband_repeats.png', bbox_inches='tight', dpi=150)"
   ]
  },
  {
   "cell_type": "code",
   "execution_count": null,
   "id": "7bf3f67d",
   "metadata": {},
   "outputs": [],
   "source": []
  },
  {
   "cell_type": "code",
   "execution_count": 33,
   "id": "c33a87a2",
   "metadata": {},
   "outputs": [],
   "source": [
    "### Large DUPs\n",
    "\n",
    "output_df_large_dup_sorted_bigger_than_1 = \\\n",
    "output_df_large_dup_sorted[output_df_large_dup_sorted['count'] > 1]"
   ]
  },
  {
   "cell_type": "code",
   "execution_count": 34,
   "id": "cbf71304",
   "metadata": {
    "scrolled": false
   },
   "outputs": [
    {
     "data": {
      "text/plain": [
       "{33: 1,\n",
       " 32: 1,\n",
       " 26: 2,\n",
       " 25: 1,\n",
       " 24: 1,\n",
       " 23: 1,\n",
       " 21: 6,\n",
       " 19: 2,\n",
       " 18: 1,\n",
       " 17: 3,\n",
       " 16: 6,\n",
       " 15: 3,\n",
       " 14: 8,\n",
       " 13: 8,\n",
       " 12: 8,\n",
       " 11: 5,\n",
       " 10: 6,\n",
       " 9: 4,\n",
       " 8: 6,\n",
       " 7: 7,\n",
       " 6: 12,\n",
       " 5: 11,\n",
       " 4: 18,\n",
       " 3: 17,\n",
       " 2: 36}"
      ]
     },
     "execution_count": 34,
     "metadata": {},
     "output_type": "execute_result"
    }
   ],
   "source": [
    "count_elements(list(output_df_large_dup_sorted_bigger_than_1['count']))"
   ]
  },
  {
   "cell_type": "code",
   "execution_count": 35,
   "id": "375f4782",
   "metadata": {},
   "outputs": [
    {
     "data": {
      "image/png": "[encoded data removed]",
      "text/plain": [
       "<Figure size 1152x792 with 1 Axes>"
      ]
     },
     "metadata": {
      "needs_background": "light"
     },
     "output_type": "display_data"
    }
   ],
   "source": [
    "repeat_counts = count_elements(list(output_df_large_dup_sorted_bigger_than_1['count']))\n",
    "\n",
    "sorted_labels = sorted(repeat_counts)\n",
    "plot_list = []\n",
    "\n",
    "for label in sorted_labels:\n",
    "    \n",
    "    plot_list.append(repeat_counts[label])\n",
    "\n",
    "sorted_labels_str = [str(x) for x in sorted_labels]\n",
    "fig, ax = plt.subplots(figsize =(16, 11))\n",
    "\n",
    "_ = ax.barh(sorted_labels_str, plot_list)\n",
    "_ = ax.grid(b = True, color ='grey',\n",
    "            linestyle ='-.', linewidth = 0.5,\n",
    "            alpha = 0.2)\n",
    "\n",
    "# Add annotation to bars\n",
    "for i in ax.patches:\n",
    "    plt.text(i.get_width()+.25, i.get_y()+0.3,\n",
    "             str(round((i.get_width()), 2)),\n",
    "             fontsize = 10, fontweight ='bold',\n",
    "             color ='green')\n",
    "    \n",
    "_ = ax.set_xlabel('Chromband count', fontweight ='bold', fontsize=12)\n",
    "_ = ax.set_ylabel('# of samples', fontweight ='bold', fontsize=12)\n",
    "\n",
    "fig.savefig('/Users/ryanyutian/Desktop/visualizations/large_dup_chromband_repeats.png', bbox_inches='tight', dpi=150)"
   ]
  },
  {
   "cell_type": "code",
   "execution_count": null,
   "id": "33b38ecf",
   "metadata": {},
   "outputs": [],
   "source": []
  },
  {
   "cell_type": "code",
   "execution_count": 36,
   "id": "79ef8328",
   "metadata": {},
   "outputs": [],
   "source": [
    "### Large INVs\n",
    "\n",
    "output_df_large_inv_sorted_bigger_than_1 = \\\n",
    "output_df_large_inv_sorted[output_df_large_inv_sorted['count'] > 1]"
   ]
  },
  {
   "cell_type": "code",
   "execution_count": 37,
   "id": "3acfdd04",
   "metadata": {
    "scrolled": false
   },
   "outputs": [
    {
     "data": {
      "text/plain": [
       "{15: 1, 11: 1, 9: 1, 8: 3, 7: 3, 6: 3, 5: 5, 4: 4, 3: 15, 2: 20}"
      ]
     },
     "execution_count": 37,
     "metadata": {},
     "output_type": "execute_result"
    }
   ],
   "source": [
    "count_elements(list(output_df_large_inv_sorted_bigger_than_1['count']))"
   ]
  },
  {
   "cell_type": "code",
   "execution_count": 38,
   "id": "d8d31c02",
   "metadata": {},
   "outputs": [
    {
     "data": {
      "image/png": "[encoded data removed]",
      "text/plain": [
       "<Figure size 1152x792 with 1 Axes>"
      ]
     },
     "metadata": {
      "needs_background": "light"
     },
     "output_type": "display_data"
    }
   ],
   "source": [
    "repeat_counts = count_elements(list(output_df_large_inv_sorted_bigger_than_1['count']))\n",
    "\n",
    "sorted_labels = sorted(repeat_counts)\n",
    "plot_list = []\n",
    "\n",
    "for label in sorted_labels:\n",
    "    \n",
    "    plot_list.append(repeat_counts[label])\n",
    "\n",
    "sorted_labels_str = [str(x) for x in sorted_labels]\n",
    "fig, ax = plt.subplots(figsize =(16, 11))\n",
    "\n",
    "_ = ax.barh(sorted_labels_str, plot_list)\n",
    "_ = ax.grid(b = True, color ='grey',\n",
    "            linestyle ='-.', linewidth = 0.5,\n",
    "            alpha = 0.2)\n",
    "\n",
    "# Add annotation to bars\n",
    "for i in ax.patches:\n",
    "    plt.text(i.get_width()+.25, i.get_y()+0.3,\n",
    "             str(round((i.get_width()), 2)),\n",
    "             fontsize = 10, fontweight ='bold',\n",
    "             color ='green')\n",
    "    \n",
    "_ = ax.set_xlabel('Chromband count', fontweight ='bold', fontsize=12)\n",
    "_ = ax.set_ylabel('# of samples', fontweight ='bold', fontsize=12)\n",
    "\n",
    "fig.savefig('/Users/ryanyutian/Desktop/visualizations/large_inv_chromband_repeats.png', bbox_inches='tight', dpi=150)"
   ]
  },
  {
   "cell_type": "code",
   "execution_count": null,
   "id": "5b8a6a99",
   "metadata": {},
   "outputs": [],
   "source": []
  }
 ],
 "metadata": {
  "kernelspec": {
   "display_name": "Python 3",
   "language": "python",
   "name": "python3"
  },
  "language_info": {
   "codemirror_mode": {
    "name": "ipython",
    "version": 3
   },
   "file_extension": ".py",
   "mimetype": "text/x-python",
   "name": "python",
   "nbconvert_exporter": "python",
   "pygments_lexer": "ipython3",
   "version": "3.6.13"
  }
 },
 "nbformat": 4,
 "nbformat_minor": 5
}
